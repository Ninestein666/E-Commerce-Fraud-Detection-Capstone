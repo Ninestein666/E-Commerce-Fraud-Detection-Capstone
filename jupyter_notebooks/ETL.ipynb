{
  "cells": [
    {
      "cell_type": "markdown",
      "metadata": {
        "id": "0aStgWSO0E0E"
      },
      "source": [
        "## E-Commerce Fraud Detection ETL"
      ]
    },
    {
      "cell_type": "markdown",
      "metadata": {
        "id": "1eLEkw5O0ECa"
      },
      "source": [
        "## Objectives\n",
        "\n",
        "* In this notebook, we will perform the ETL (Extract, Transform, Load) process on the e-commerce fraud detection dataset. The goal is to clean and preprocess the data to make it suitable for analysis and modeling. We will check for duplicates, missing values, and inconsistencies in the data, and apply necessary transformations to ensure data quality.\n",
        "\n",
        "## Inputs\n",
        "\n",
        "*  The Raw dataset file Synthetic Fraud Transactions.csv, I have also used Python libraries such as Pandas and NumPy for data manipulation and analysis.\n",
        "\n",
        "## Outputs\n",
        "\n",
        "* We saved the new cleaned dataset to the DataSet/Cleaned folder as cleaned_transactions.csv\n",
        "\n",
        "\n",
        "\n"
      ]
    },
    {
      "cell_type": "markdown",
      "metadata": {
        "id": "9uWZXH9LwoQg"
      },
      "source": [
        "---"
      ]
    },
    {
      "cell_type": "markdown",
      "metadata": {
        "id": "cqP-UeN-z3i2"
      },
      "source": [
        "# Change working directory"
      ]
    },
    {
      "cell_type": "markdown",
      "metadata": {},
      "source": [
        "* We are assuming you will store the notebooks in a subfolder, therefore when running the notebook in the editor, you will need to change the working directory"
      ]
    },
    {
      "cell_type": "markdown",
      "metadata": {
        "id": "aOGIGS-uz3i2"
      },
      "source": [
        "We need to change the working directory from its current folder to its parent folder\n",
        "* We access the current directory with os.getcwd()"
      ]
    },
    {
      "cell_type": "code",
      "execution_count": 6,
      "metadata": {
        "id": "wZfF_j-Bz3i4",
        "outputId": "66943449-1436-4c3d-85c7-b85f9f78349b"
      },
      "outputs": [
        {
          "data": {
            "text/plain": [
              "'c:\\\\Users\\\\Nine\\\\OneDrive\\\\Documents\\\\VS Code Projects\\\\E-Commerce-Fraud-Detection-Capstone\\\\E-Commerce-Fraud-Detection-Capstone\\\\jupyter_notebooks'"
            ]
          },
          "execution_count": 6,
          "metadata": {},
          "output_type": "execute_result"
        }
      ],
      "source": [
        "import os\n",
        "current_dir = os.getcwd()\n",
        "current_dir"
      ]
    },
    {
      "cell_type": "markdown",
      "metadata": {
        "id": "9MWW8E7lz3i7"
      },
      "source": [
        "We want to make the parent of the current directory the new current directory\n",
        "* os.path.dirname() gets the parent directory\n",
        "* os.chir() defines the new current directory"
      ]
    },
    {
      "cell_type": "code",
      "execution_count": 7,
      "metadata": {
        "id": "TwHsQRWjz3i9",
        "outputId": "86849db3-cd2f-4cc5-ebb8-2d0caafa1a2c"
      },
      "outputs": [
        {
          "name": "stdout",
          "output_type": "stream",
          "text": [
            "You set a new current directory\n"
          ]
        }
      ],
      "source": [
        "os.chdir(os.path.dirname(current_dir))\n",
        "print(\"You set a new current directory\")"
      ]
    },
    {
      "cell_type": "markdown",
      "metadata": {
        "id": "M_xPk_Ijz3i-"
      },
      "source": [
        "Confirm the new current directory"
      ]
    },
    {
      "cell_type": "code",
      "execution_count": 8,
      "metadata": {
        "id": "vz3S-_kjz3jA",
        "outputId": "00b79ae4-75d0-4a96-d193-ac9ef9847ea2"
      },
      "outputs": [
        {
          "data": {
            "text/plain": [
              "'c:\\\\Users\\\\Nine\\\\OneDrive\\\\Documents\\\\VS Code Projects\\\\E-Commerce-Fraud-Detection-Capstone\\\\E-Commerce-Fraud-Detection-Capstone'"
            ]
          },
          "execution_count": 8,
          "metadata": {},
          "output_type": "execute_result"
        }
      ],
      "source": [
        "current_dir = os.getcwd()\n",
        "current_dir"
      ]
    },
    {
      "cell_type": "markdown",
      "metadata": {
        "id": "-mavJ8DibrcQ"
      },
      "source": [
        "# Extract and Load Raw Data"
      ]
    },
    {
      "cell_type": "code",
      "execution_count": 9,
      "metadata": {},
      "outputs": [],
      "source": [
        "# Import Libraries\n",
        "import pandas as pd\n",
        "import numpy as np"
      ]
    },
    {
      "cell_type": "markdown",
      "metadata": {},
      "source": [
        "## Extract ZIP file and load data"
      ]
    },
    {
      "cell_type": "code",
      "execution_count": 10,
      "metadata": {},
      "outputs": [
        {
          "name": "stdout",
          "output_type": "stream",
          "text": [
            "ZIP file extracted successfully!\n",
            "Extracted files: ['data_dictionary.csv', 'README.md', 'Synthetic Fraud Transactions.zip', 'transactions.csv']\n"
          ]
        }
      ],
      "source": [
        "import zipfile\n",
        "import os\n",
        "\n",
        "# Extract the ZIP file\n",
        "zip_path = \"DataSet/Raw/Synthetic Fraud Transactions.zip\"\n",
        "extract_path = \"DataSet/Raw/\"\n",
        "\n",
        "with zipfile.ZipFile(zip_path, 'r') as zip_ref:\n",
        "    zip_ref.extractall(extract_path)\n",
        "    print(\"ZIP file extracted successfully!\")\n",
        "\n",
        "# List the extracted files\n",
        "extracted_files = os.listdir(extract_path)\n",
        "print(\"Extracted files:\", extracted_files)"
      ]
    },
    {
      "cell_type": "code",
      "execution_count": 11,
      "metadata": {},
      "outputs": [
        {
          "name": "stdout",
          "output_type": "stream",
          "text": [
            "Dataset loaded successfully!\n",
            "Shape: (10000, 12)\n",
            "Columns: ['transaction_id', 'user_id', 'timestamp', 'amount', 'country', 'device', 'channel', 'hour', 'dayofweek', 'coupon_applied', 'num_items', 'is_fraud']\n"
          ]
        },
        {
          "data": {
            "text/html": [
              "<div>\n",
              "<style scoped>\n",
              "    .dataframe tbody tr th:only-of-type {\n",
              "        vertical-align: middle;\n",
              "    }\n",
              "\n",
              "    .dataframe tbody tr th {\n",
              "        vertical-align: top;\n",
              "    }\n",
              "\n",
              "    .dataframe thead th {\n",
              "        text-align: right;\n",
              "    }\n",
              "</style>\n",
              "<table border=\"1\" class=\"dataframe\">\n",
              "  <thead>\n",
              "    <tr style=\"text-align: right;\">\n",
              "      <th></th>\n",
              "      <th>transaction_id</th>\n",
              "      <th>user_id</th>\n",
              "      <th>timestamp</th>\n",
              "      <th>amount</th>\n",
              "      <th>country</th>\n",
              "      <th>device</th>\n",
              "      <th>channel</th>\n",
              "      <th>hour</th>\n",
              "      <th>dayofweek</th>\n",
              "      <th>coupon_applied</th>\n",
              "      <th>num_items</th>\n",
              "      <th>is_fraud</th>\n",
              "    </tr>\n",
              "  </thead>\n",
              "  <tbody>\n",
              "    <tr>\n",
              "      <th>0</th>\n",
              "      <td>6253</td>\n",
              "      <td>3594</td>\n",
              "      <td>2023-01-28 06:04:00</td>\n",
              "      <td>125.79</td>\n",
              "      <td>US</td>\n",
              "      <td>mobile</td>\n",
              "      <td>ads</td>\n",
              "      <td>6</td>\n",
              "      <td>5</td>\n",
              "      <td>0</td>\n",
              "      <td>5</td>\n",
              "      <td>0</td>\n",
              "    </tr>\n",
              "    <tr>\n",
              "      <th>1</th>\n",
              "      <td>4685</td>\n",
              "      <td>2502</td>\n",
              "      <td>2023-04-27 21:32:00</td>\n",
              "      <td>153.40</td>\n",
              "      <td>DE</td>\n",
              "      <td>mobile</td>\n",
              "      <td>web</td>\n",
              "      <td>21</td>\n",
              "      <td>3</td>\n",
              "      <td>0</td>\n",
              "      <td>3</td>\n",
              "      <td>0</td>\n",
              "    </tr>\n",
              "    <tr>\n",
              "      <th>2</th>\n",
              "      <td>1732</td>\n",
              "      <td>2287</td>\n",
              "      <td>2023-08-19 19:03:00</td>\n",
              "      <td>7.64</td>\n",
              "      <td>IN</td>\n",
              "      <td>tablet</td>\n",
              "      <td>app</td>\n",
              "      <td>19</td>\n",
              "      <td>5</td>\n",
              "      <td>0</td>\n",
              "      <td>3</td>\n",
              "      <td>0</td>\n",
              "    </tr>\n",
              "    <tr>\n",
              "      <th>3</th>\n",
              "      <td>4743</td>\n",
              "      <td>3043</td>\n",
              "      <td>2023-03-14 04:56:00</td>\n",
              "      <td>36.36</td>\n",
              "      <td>US</td>\n",
              "      <td>mobile</td>\n",
              "      <td>web</td>\n",
              "      <td>4</td>\n",
              "      <td>1</td>\n",
              "      <td>1</td>\n",
              "      <td>2</td>\n",
              "      <td>0</td>\n",
              "    </tr>\n",
              "    <tr>\n",
              "      <th>4</th>\n",
              "      <td>4522</td>\n",
              "      <td>4629</td>\n",
              "      <td>2023-09-24 21:33:00</td>\n",
              "      <td>55.17</td>\n",
              "      <td>ES</td>\n",
              "      <td>mobile</td>\n",
              "      <td>app</td>\n",
              "      <td>21</td>\n",
              "      <td>6</td>\n",
              "      <td>0</td>\n",
              "      <td>1</td>\n",
              "      <td>0</td>\n",
              "    </tr>\n",
              "  </tbody>\n",
              "</table>\n",
              "</div>"
            ],
            "text/plain": [
              "   transaction_id  user_id            timestamp  amount country  device  \\\n",
              "0            6253     3594  2023-01-28 06:04:00  125.79      US  mobile   \n",
              "1            4685     2502  2023-04-27 21:32:00  153.40      DE  mobile   \n",
              "2            1732     2287  2023-08-19 19:03:00    7.64      IN  tablet   \n",
              "3            4743     3043  2023-03-14 04:56:00   36.36      US  mobile   \n",
              "4            4522     4629  2023-09-24 21:33:00   55.17      ES  mobile   \n",
              "\n",
              "  channel  hour  dayofweek  coupon_applied  num_items  is_fraud  \n",
              "0     ads     6          5               0          5         0  \n",
              "1     web    21          3               0          3         0  \n",
              "2     app    19          5               0          3         0  \n",
              "3     web     4          1               1          2         0  \n",
              "4     app    21          6               0          1         0  "
            ]
          },
          "execution_count": 11,
          "metadata": {},
          "output_type": "execute_result"
        }
      ],
      "source": [
        "# Load the main dataset\n",
        "df = pd.read_csv(\"DataSet/Raw/transactions.csv\")\n",
        "\n",
        "print(f\"Dataset loaded successfully!\")\n",
        "print(f\"Shape: {df.shape}\")\n",
        "print(f\"Columns: {list(df.columns)}\")\n",
        "\n",
        "# Display first few rows\n",
        "df.head()"
      ]
    },
    {
      "cell_type": "code",
      "execution_count": null,
      "metadata": {},
      "outputs": [],
      "source": [
        "## The dataset column names are easily readable and do not require extensive cleaning/ changing."
      ]
    },
    {
      "cell_type": "code",
      "execution_count": 12,
      "metadata": {},
      "outputs": [],
      "source": [
        "## Next we will check the structure of the data and clean it accordingly."
      ]
    },
    {
      "cell_type": "code",
      "execution_count": 13,
      "metadata": {},
      "outputs": [
        {
          "name": "stdout",
          "output_type": "stream",
          "text": [
            "(10000, 12)\n",
            "<class 'pandas.core.frame.DataFrame'>\n",
            "RangeIndex: 10000 entries, 0 to 9999\n",
            "Data columns (total 12 columns):\n",
            " #   Column          Non-Null Count  Dtype  \n",
            "---  ------          --------------  -----  \n",
            " 0   transaction_id  10000 non-null  int64  \n",
            " 1   user_id         10000 non-null  int64  \n",
            " 2   timestamp       10000 non-null  object \n",
            " 3   amount          10000 non-null  float64\n",
            " 4   country         10000 non-null  object \n",
            " 5   device          10000 non-null  object \n",
            " 6   channel         10000 non-null  object \n",
            " 7   hour            10000 non-null  int64  \n",
            " 8   dayofweek       10000 non-null  int64  \n",
            " 9   coupon_applied  10000 non-null  int64  \n",
            " 10  num_items       10000 non-null  int64  \n",
            " 11  is_fraud        10000 non-null  int64  \n",
            "dtypes: float64(1), int64(7), object(4)\n",
            "memory usage: 937.6+ KB\n"
          ]
        },
        {
          "data": {
            "text/html": [
              "<div>\n",
              "<style scoped>\n",
              "    .dataframe tbody tr th:only-of-type {\n",
              "        vertical-align: middle;\n",
              "    }\n",
              "\n",
              "    .dataframe tbody tr th {\n",
              "        vertical-align: top;\n",
              "    }\n",
              "\n",
              "    .dataframe thead th {\n",
              "        text-align: right;\n",
              "    }\n",
              "</style>\n",
              "<table border=\"1\" class=\"dataframe\">\n",
              "  <thead>\n",
              "    <tr style=\"text-align: right;\">\n",
              "      <th></th>\n",
              "      <th>count</th>\n",
              "      <th>unique</th>\n",
              "      <th>top</th>\n",
              "      <th>freq</th>\n",
              "      <th>mean</th>\n",
              "      <th>std</th>\n",
              "      <th>min</th>\n",
              "      <th>25%</th>\n",
              "      <th>50%</th>\n",
              "      <th>75%</th>\n",
              "      <th>max</th>\n",
              "    </tr>\n",
              "  </thead>\n",
              "  <tbody>\n",
              "    <tr>\n",
              "      <th>transaction_id</th>\n",
              "      <td>10000.0</td>\n",
              "      <td>NaN</td>\n",
              "      <td>NaN</td>\n",
              "      <td>NaN</td>\n",
              "      <td>5000.5</td>\n",
              "      <td>2886.89568</td>\n",
              "      <td>1.0</td>\n",
              "      <td>2500.75</td>\n",
              "      <td>5000.5</td>\n",
              "      <td>7500.25</td>\n",
              "      <td>10000.0</td>\n",
              "    </tr>\n",
              "    <tr>\n",
              "      <th>user_id</th>\n",
              "      <td>10000.0</td>\n",
              "      <td>NaN</td>\n",
              "      <td>NaN</td>\n",
              "      <td>NaN</td>\n",
              "      <td>3010.5611</td>\n",
              "      <td>1152.371939</td>\n",
              "      <td>1000.0</td>\n",
              "      <td>2001.75</td>\n",
              "      <td>3004.0</td>\n",
              "      <td>4010.0</td>\n",
              "      <td>4999.0</td>\n",
              "    </tr>\n",
              "    <tr>\n",
              "      <th>timestamp</th>\n",
              "      <td>10000</td>\n",
              "      <td>9930</td>\n",
              "      <td>2023-01-12 08:55:00</td>\n",
              "      <td>3</td>\n",
              "      <td>NaN</td>\n",
              "      <td>NaN</td>\n",
              "      <td>NaN</td>\n",
              "      <td>NaN</td>\n",
              "      <td>NaN</td>\n",
              "      <td>NaN</td>\n",
              "      <td>NaN</td>\n",
              "    </tr>\n",
              "    <tr>\n",
              "      <th>amount</th>\n",
              "      <td>10000.0</td>\n",
              "      <td>NaN</td>\n",
              "      <td>NaN</td>\n",
              "      <td>NaN</td>\n",
              "      <td>79.797354</td>\n",
              "      <td>61.4693</td>\n",
              "      <td>2.01</td>\n",
              "      <td>36.785</td>\n",
              "      <td>62.245</td>\n",
              "      <td>105.0</td>\n",
              "      <td>530.7</td>\n",
              "    </tr>\n",
              "    <tr>\n",
              "      <th>country</th>\n",
              "      <td>10000</td>\n",
              "      <td>10</td>\n",
              "      <td>US</td>\n",
              "      <td>1951</td>\n",
              "      <td>NaN</td>\n",
              "      <td>NaN</td>\n",
              "      <td>NaN</td>\n",
              "      <td>NaN</td>\n",
              "      <td>NaN</td>\n",
              "      <td>NaN</td>\n",
              "      <td>NaN</td>\n",
              "    </tr>\n",
              "    <tr>\n",
              "      <th>device</th>\n",
              "      <td>10000</td>\n",
              "      <td>3</td>\n",
              "      <td>mobile</td>\n",
              "      <td>5961</td>\n",
              "      <td>NaN</td>\n",
              "      <td>NaN</td>\n",
              "      <td>NaN</td>\n",
              "      <td>NaN</td>\n",
              "      <td>NaN</td>\n",
              "      <td>NaN</td>\n",
              "      <td>NaN</td>\n",
              "    </tr>\n",
              "    <tr>\n",
              "      <th>channel</th>\n",
              "      <td>10000</td>\n",
              "      <td>5</td>\n",
              "      <td>web</td>\n",
              "      <td>4519</td>\n",
              "      <td>NaN</td>\n",
              "      <td>NaN</td>\n",
              "      <td>NaN</td>\n",
              "      <td>NaN</td>\n",
              "      <td>NaN</td>\n",
              "      <td>NaN</td>\n",
              "      <td>NaN</td>\n",
              "    </tr>\n",
              "    <tr>\n",
              "      <th>hour</th>\n",
              "      <td>10000.0</td>\n",
              "      <td>NaN</td>\n",
              "      <td>NaN</td>\n",
              "      <td>NaN</td>\n",
              "      <td>11.5847</td>\n",
              "      <td>6.937913</td>\n",
              "      <td>0.0</td>\n",
              "      <td>6.0</td>\n",
              "      <td>12.0</td>\n",
              "      <td>18.0</td>\n",
              "      <td>23.0</td>\n",
              "    </tr>\n",
              "    <tr>\n",
              "      <th>dayofweek</th>\n",
              "      <td>10000.0</td>\n",
              "      <td>NaN</td>\n",
              "      <td>NaN</td>\n",
              "      <td>NaN</td>\n",
              "      <td>3.03</td>\n",
              "      <td>1.999025</td>\n",
              "      <td>0.0</td>\n",
              "      <td>1.0</td>\n",
              "      <td>3.0</td>\n",
              "      <td>5.0</td>\n",
              "      <td>6.0</td>\n",
              "    </tr>\n",
              "    <tr>\n",
              "      <th>coupon_applied</th>\n",
              "      <td>10000.0</td>\n",
              "      <td>NaN</td>\n",
              "      <td>NaN</td>\n",
              "      <td>NaN</td>\n",
              "      <td>0.2441</td>\n",
              "      <td>0.429574</td>\n",
              "      <td>0.0</td>\n",
              "      <td>0.0</td>\n",
              "      <td>0.0</td>\n",
              "      <td>0.0</td>\n",
              "      <td>1.0</td>\n",
              "    </tr>\n",
              "    <tr>\n",
              "      <th>num_items</th>\n",
              "      <td>10000.0</td>\n",
              "      <td>NaN</td>\n",
              "      <td>NaN</td>\n",
              "      <td>NaN</td>\n",
              "      <td>3.192</td>\n",
              "      <td>1.488945</td>\n",
              "      <td>1.0</td>\n",
              "      <td>2.0</td>\n",
              "      <td>3.0</td>\n",
              "      <td>4.0</td>\n",
              "      <td>11.0</td>\n",
              "    </tr>\n",
              "    <tr>\n",
              "      <th>is_fraud</th>\n",
              "      <td>10000.0</td>\n",
              "      <td>NaN</td>\n",
              "      <td>NaN</td>\n",
              "      <td>NaN</td>\n",
              "      <td>0.0643</td>\n",
              "      <td>0.245299</td>\n",
              "      <td>0.0</td>\n",
              "      <td>0.0</td>\n",
              "      <td>0.0</td>\n",
              "      <td>0.0</td>\n",
              "      <td>1.0</td>\n",
              "    </tr>\n",
              "  </tbody>\n",
              "</table>\n",
              "</div>"
            ],
            "text/plain": [
              "                  count unique                  top  freq       mean  \\\n",
              "transaction_id  10000.0    NaN                  NaN   NaN     5000.5   \n",
              "user_id         10000.0    NaN                  NaN   NaN  3010.5611   \n",
              "timestamp         10000   9930  2023-01-12 08:55:00     3        NaN   \n",
              "amount          10000.0    NaN                  NaN   NaN  79.797354   \n",
              "country           10000     10                   US  1951        NaN   \n",
              "device            10000      3               mobile  5961        NaN   \n",
              "channel           10000      5                  web  4519        NaN   \n",
              "hour            10000.0    NaN                  NaN   NaN    11.5847   \n",
              "dayofweek       10000.0    NaN                  NaN   NaN       3.03   \n",
              "coupon_applied  10000.0    NaN                  NaN   NaN     0.2441   \n",
              "num_items       10000.0    NaN                  NaN   NaN      3.192   \n",
              "is_fraud        10000.0    NaN                  NaN   NaN     0.0643   \n",
              "\n",
              "                        std     min      25%     50%      75%      max  \n",
              "transaction_id   2886.89568     1.0  2500.75  5000.5  7500.25  10000.0  \n",
              "user_id         1152.371939  1000.0  2001.75  3004.0   4010.0   4999.0  \n",
              "timestamp               NaN     NaN      NaN     NaN      NaN      NaN  \n",
              "amount              61.4693    2.01   36.785  62.245    105.0    530.7  \n",
              "country                 NaN     NaN      NaN     NaN      NaN      NaN  \n",
              "device                  NaN     NaN      NaN     NaN      NaN      NaN  \n",
              "channel                 NaN     NaN      NaN     NaN      NaN      NaN  \n",
              "hour               6.937913     0.0      6.0    12.0     18.0     23.0  \n",
              "dayofweek          1.999025     0.0      1.0     3.0      5.0      6.0  \n",
              "coupon_applied     0.429574     0.0      0.0     0.0      0.0      1.0  \n",
              "num_items          1.488945     1.0      2.0     3.0      4.0     11.0  \n",
              "is_fraud           0.245299     0.0      0.0     0.0      0.0      1.0  "
            ]
          },
          "execution_count": 13,
          "metadata": {},
          "output_type": "execute_result"
        }
      ],
      "source": [
        "print(df.shape)     # rows, cols\n",
        "df.info()\n",
        "df.describe(include=\"all\").T.head(20)"
      ]
    },
    {
      "cell_type": "code",
      "execution_count": null,
      "metadata": {},
      "outputs": [],
      "source": [
        "## For this next section i will use the help of AI to write code to help me convert the Dtype of the columns to the correct format."
      ]
    },
    {
      "cell_type": "code",
      "execution_count": 15,
      "metadata": {},
      "outputs": [
        {
          "name": "stdout",
          "output_type": "stream",
          "text": [
            "<class 'pandas.core.frame.DataFrame'>\n",
            "RangeIndex: 10000 entries, 0 to 9999\n",
            "Data columns (total 12 columns):\n",
            " #   Column          Non-Null Count  Dtype              \n",
            "---  ------          --------------  -----              \n",
            " 0   transaction_id  10000 non-null  Int64              \n",
            " 1   user_id         10000 non-null  Int64              \n",
            " 2   timestamp       10000 non-null  datetime64[ns, UTC]\n",
            " 3   amount          10000 non-null  Float64            \n",
            " 4   country         10000 non-null  category           \n",
            " 5   device          10000 non-null  category           \n",
            " 6   channel         10000 non-null  category           \n",
            " 7   hour            10000 non-null  UInt8              \n",
            " 8   dayofweek       10000 non-null  UInt8              \n",
            " 9   coupon_applied  10000 non-null  boolean            \n",
            " 10  num_items       10000 non-null  UInt16             \n",
            " 11  is_fraud        10000 non-null  boolean            \n",
            "dtypes: Float64(1), Int64(2), UInt16(1), UInt8(2), boolean(2), category(3), datetime64[ns, UTC](1)\n",
            "memory usage: 479.4 KB\n"
          ]
        }
      ],
      "source": [
        "categorical_cols = [\"country\", \"device\", \"channel\"]\n",
        "bool_like_cols   = [\"coupon_applied\", \"is_fraud\"]\n",
        "small_int_cols   = {\"hour\": \"UInt8\", \"dayofweek\": \"UInt8\", \"num_items\": \"UInt16\"}\n",
        "\n",
        "# Timestamp to datetime (UTC)\n",
        "if \"timestamp\" in df_clean.columns:\n",
        "    df_clean[\"timestamp\"] = pd.to_datetime(df_clean[\"timestamp\"], utc=True, errors=\"coerce\")\n",
        "\n",
        "# Categorical text cleanup -> category dtype\n",
        "for c in categorical_cols:\n",
        "    if c in df_clean.columns:\n",
        "        df_clean[c] = (\n",
        "            df_clean[c]\n",
        "            .astype(\"string\")\n",
        "            .str.strip()\n",
        "            .str.lower()\n",
        "            .replace({\"\": pd.NA})\n",
        "            .astype(\"category\")\n",
        "        )\n",
        "\n",
        "# Convert numeric columns safely\n",
        "for col in [\"amount\", \"hour\", \"dayofweek\", \"num_items\", \"transaction_id\", \"user_id\"]:\n",
        "    if col in df_clean.columns:\n",
        "        df_clean[col] = pd.to_numeric(df_clean[col], errors=\"coerce\")\n",
        "\n",
        "# Booleans from 0/1/true/false -> pandas BooleanDtype (nullable)\n",
        "truth_map = {True: True, False: False, 1: True, 0: False, \"1\": True, \"0\": False, \"true\": True, \"false\": False}\n",
        "for c in bool_like_cols:\n",
        "    if c in df_clean.columns:\n",
        "        df_clean[c] = df_clean[c].map(truth_map).astype(\"boolean\")\n",
        "\n",
        "# Downsize small ints if present\n",
        "for col, dtype in small_int_cols.items():\n",
        "    if col in df_clean.columns:\n",
        "        df_clean[col] = df_clean[col].astype(dtype)\n",
        "\n",
        "# Amount as float (nullable)\n",
        "if \"amount\" in df_clean.columns:\n",
        "    df_clean[\"amount\"] = df_clean[\"amount\"].astype(\"Float64\")\n",
        "\n",
        "# IDs as integers (nullable)\n",
        "for col in [\"transaction_id\", \"user_id\"]:\n",
        "    if col in df_clean.columns:\n",
        "        df_clean[col] = df_clean[col].astype(\"Int64\")\n",
        "\n",
        "df_clean.info()"
      ]
    },
    {
      "cell_type": "code",
      "execution_count": 17,
      "metadata": {},
      "outputs": [],
      "source": [
        "## we will now check for duplicates and missing values in the dataset."
      ]
    },
    {
      "cell_type": "code",
      "execution_count": 18,
      "metadata": {},
      "outputs": [
        {
          "name": "stdout",
          "output_type": "stream",
          "text": [
            "Exact duplicate rows (before drop): 0\n"
          ]
        }
      ],
      "source": [
        "# Count exact duplicate rows\n",
        "dup_rows_count = df_clean.duplicated(keep=False).sum()\n",
        "print(f\"Exact duplicate rows (before drop): {dup_rows_count}\")\n"
      ]
    },
    {
      "cell_type": "code",
      "execution_count": 19,
      "metadata": {},
      "outputs": [
        {
          "name": "stdout",
          "output_type": "stream",
          "text": [
            "Rows with duplicate transaction_id (before de-dup by key): 0\n"
          ]
        }
      ],
      "source": [
        "# Check duplicates by transaction_id if that column exists\n",
        "if \"transaction_id\" in df_clean.columns:\n",
        "    dup_txn_count = df_clean[\"transaction_id\"].duplicated(keep=False).sum()\n",
        "    print(f\"Rows with duplicate transaction_id (before de-dup by key): {dup_txn_count}\")"
      ]
    },
    {
      "cell_type": "code",
      "execution_count": null,
      "metadata": {},
      "outputs": [],
      "source": [
        "## As we can see there are no duplicate rows or transaction IDs in the dataset."
      ]
    },
    {
      "cell_type": "code",
      "execution_count": 20,
      "metadata": {},
      "outputs": [],
      "source": [
        "## Next I will use AI to help me write code to handle missing values and invalid rows"
      ]
    },
    {
      "cell_type": "code",
      "execution_count": 21,
      "metadata": {},
      "outputs": [
        {
          "name": "stdout",
          "output_type": "stream",
          "text": [
            "Rows removed for missing/invalid values: 0\n",
            "Shape after cleaning: (10000, 12)\n"
          ]
        }
      ],
      "source": [
        "# Define critical fields and rules\n",
        "critical_non_null = [\"timestamp\", \"transaction_id\", \"user_id\", \"amount\", \"num_items\"]\n",
        "for col in critical_non_null:\n",
        "    if col not in df_clean.columns:\n",
        "        print(f\"Warning: expected column '{col}' not found.\")\n",
        "\n",
        "# Coerce negative amounts -> NA (policy choice), then require non-null\n",
        "if \"amount\" in df_clean.columns:\n",
        "    df_clean[\"amount\"] = df_clean[\"amount\"].mask(df_clean[\"amount\"] < 0, pd.NA)\n",
        "\n",
        "# If hour/dayofweek exist, ensure ranges; else treat as valid\n",
        "hour_ok = (~df_clean[\"hour\"].isna()) & df_clean[\"hour\"].between(0, 23) if \"hour\" in df_clean.columns else True\n",
        "dow_ok  = (~df_clean[\"dayofweek\"].isna()) & df_clean[\"dayofweek\"].between(0, 6) if \"dayofweek\" in df_clean.columns else True\n",
        "\n",
        "# Positive IDs if present\n",
        "tid_ok = (~df_clean[\"transaction_id\"].isna()) & (df_clean[\"transaction_id\"] > 0) if \"transaction_id\" in df_clean.columns else True\n",
        "uid_ok = (~df_clean[\"user_id\"].isna()) & (df_clean[\"user_id\"] > 0) if \"user_id\" in df_clean.columns else True\n",
        "\n",
        "# Build validity mask\n",
        "valid_mask = (\n",
        "    (df_clean[\"timestamp\"].notna() if \"timestamp\" in df_clean.columns else True) &\n",
        "    (df_clean[\"amount\"].notna() if \"amount\" in df_clean.columns else True) &\n",
        "    (df_clean[\"num_items\"].notna() & (df_clean[\"num_items\"] > 0) if \"num_items\" in df_clean.columns else True) &\n",
        "    hour_ok & dow_ok & tid_ok & uid_ok\n",
        ")\n",
        "\n",
        "removed = (~valid_mask).sum()\n",
        "df_clean = df_clean[valid_mask].copy()\n",
        "print(f\"Rows removed for missing/invalid values: {removed}\")\n",
        "print(\"Shape after cleaning:\", df_clean.shape)"
      ]
    },
    {
      "cell_type": "code",
      "execution_count": 22,
      "metadata": {},
      "outputs": [],
      "source": [
        "## From our checks we can see that this dataset is very clean with no duplicates and missing values."
      ]
    },
    {
      "cell_type": "code",
      "execution_count": 23,
      "metadata": {},
      "outputs": [
        {
          "name": "stdout",
          "output_type": "stream",
          "text": [
            "Potential amount outliers: 443\n",
            "IQR bounds -> lower: -65.54, upper: 207.32\n"
          ]
        },
        {
          "data": {
            "text/html": [
              "<div>\n",
              "<style scoped>\n",
              "    .dataframe tbody tr th:only-of-type {\n",
              "        vertical-align: middle;\n",
              "    }\n",
              "\n",
              "    .dataframe tbody tr th {\n",
              "        vertical-align: top;\n",
              "    }\n",
              "\n",
              "    .dataframe thead th {\n",
              "        text-align: right;\n",
              "    }\n",
              "</style>\n",
              "<table border=\"1\" class=\"dataframe\">\n",
              "  <thead>\n",
              "    <tr style=\"text-align: right;\">\n",
              "      <th></th>\n",
              "      <th>transaction_id</th>\n",
              "      <th>user_id</th>\n",
              "      <th>timestamp</th>\n",
              "      <th>amount</th>\n",
              "      <th>country</th>\n",
              "      <th>device</th>\n",
              "      <th>channel</th>\n",
              "      <th>hour</th>\n",
              "      <th>dayofweek</th>\n",
              "      <th>coupon_applied</th>\n",
              "      <th>num_items</th>\n",
              "      <th>is_fraud</th>\n",
              "    </tr>\n",
              "  </thead>\n",
              "  <tbody>\n",
              "    <tr>\n",
              "      <th>4497</th>\n",
              "      <td>8409</td>\n",
              "      <td>3589</td>\n",
              "      <td>2023-10-27 20:05:00+00:00</td>\n",
              "      <td>530.7</td>\n",
              "      <td>br</td>\n",
              "      <td>tablet</td>\n",
              "      <td>social</td>\n",
              "      <td>20</td>\n",
              "      <td>4</td>\n",
              "      <td>False</td>\n",
              "      <td>2</td>\n",
              "      <td>True</td>\n",
              "    </tr>\n",
              "    <tr>\n",
              "      <th>358</th>\n",
              "      <td>8869</td>\n",
              "      <td>2033</td>\n",
              "      <td>2023-05-27 05:04:00+00:00</td>\n",
              "      <td>525.66</td>\n",
              "      <td>fr</td>\n",
              "      <td>desktop</td>\n",
              "      <td>app</td>\n",
              "      <td>5</td>\n",
              "      <td>5</td>\n",
              "      <td>False</td>\n",
              "      <td>5</td>\n",
              "      <td>True</td>\n",
              "    </tr>\n",
              "    <tr>\n",
              "      <th>8589</th>\n",
              "      <td>3156</td>\n",
              "      <td>4874</td>\n",
              "      <td>2023-05-23 15:03:00+00:00</td>\n",
              "      <td>521.84</td>\n",
              "      <td>fr</td>\n",
              "      <td>desktop</td>\n",
              "      <td>web</td>\n",
              "      <td>15</td>\n",
              "      <td>1</td>\n",
              "      <td>False</td>\n",
              "      <td>2</td>\n",
              "      <td>True</td>\n",
              "    </tr>\n",
              "    <tr>\n",
              "      <th>6534</th>\n",
              "      <td>3337</td>\n",
              "      <td>3334</td>\n",
              "      <td>2023-07-04 03:21:00+00:00</td>\n",
              "      <td>495.2</td>\n",
              "      <td>us</td>\n",
              "      <td>mobile</td>\n",
              "      <td>app</td>\n",
              "      <td>3</td>\n",
              "      <td>1</td>\n",
              "      <td>False</td>\n",
              "      <td>3</td>\n",
              "      <td>True</td>\n",
              "    </tr>\n",
              "    <tr>\n",
              "      <th>2495</th>\n",
              "      <td>4863</td>\n",
              "      <td>4488</td>\n",
              "      <td>2023-11-20 14:36:00+00:00</td>\n",
              "      <td>472.64</td>\n",
              "      <td>jp</td>\n",
              "      <td>mobile</td>\n",
              "      <td>web</td>\n",
              "      <td>14</td>\n",
              "      <td>0</td>\n",
              "      <td>False</td>\n",
              "      <td>3</td>\n",
              "      <td>True</td>\n",
              "    </tr>\n",
              "    <tr>\n",
              "      <th>6704</th>\n",
              "      <td>7074</td>\n",
              "      <td>1348</td>\n",
              "      <td>2023-07-02 21:42:00+00:00</td>\n",
              "      <td>461.67</td>\n",
              "      <td>de</td>\n",
              "      <td>desktop</td>\n",
              "      <td>app</td>\n",
              "      <td>21</td>\n",
              "      <td>6</td>\n",
              "      <td>False</td>\n",
              "      <td>4</td>\n",
              "      <td>True</td>\n",
              "    </tr>\n",
              "    <tr>\n",
              "      <th>2103</th>\n",
              "      <td>4962</td>\n",
              "      <td>1256</td>\n",
              "      <td>2023-01-30 05:43:00+00:00</td>\n",
              "      <td>454.2</td>\n",
              "      <td>ca</td>\n",
              "      <td>mobile</td>\n",
              "      <td>web</td>\n",
              "      <td>5</td>\n",
              "      <td>0</td>\n",
              "      <td>False</td>\n",
              "      <td>4</td>\n",
              "      <td>True</td>\n",
              "    </tr>\n",
              "    <tr>\n",
              "      <th>6266</th>\n",
              "      <td>4321</td>\n",
              "      <td>1979</td>\n",
              "      <td>2023-05-20 15:21:00+00:00</td>\n",
              "      <td>441.8</td>\n",
              "      <td>in</td>\n",
              "      <td>desktop</td>\n",
              "      <td>app</td>\n",
              "      <td>15</td>\n",
              "      <td>5</td>\n",
              "      <td>False</td>\n",
              "      <td>3</td>\n",
              "      <td>True</td>\n",
              "    </tr>\n",
              "    <tr>\n",
              "      <th>7157</th>\n",
              "      <td>5935</td>\n",
              "      <td>3369</td>\n",
              "      <td>2023-12-11 08:33:00+00:00</td>\n",
              "      <td>432.64</td>\n",
              "      <td>ca</td>\n",
              "      <td>desktop</td>\n",
              "      <td>app</td>\n",
              "      <td>8</td>\n",
              "      <td>0</td>\n",
              "      <td>True</td>\n",
              "      <td>4</td>\n",
              "      <td>True</td>\n",
              "    </tr>\n",
              "    <tr>\n",
              "      <th>5147</th>\n",
              "      <td>6188</td>\n",
              "      <td>4074</td>\n",
              "      <td>2023-09-14 02:48:00+00:00</td>\n",
              "      <td>430.5</td>\n",
              "      <td>us</td>\n",
              "      <td>desktop</td>\n",
              "      <td>app</td>\n",
              "      <td>2</td>\n",
              "      <td>3</td>\n",
              "      <td>True</td>\n",
              "      <td>1</td>\n",
              "      <td>True</td>\n",
              "    </tr>\n",
              "  </tbody>\n",
              "</table>\n",
              "</div>"
            ],
            "text/plain": [
              "      transaction_id  user_id                 timestamp  amount country  \\\n",
              "4497            8409     3589 2023-10-27 20:05:00+00:00   530.7      br   \n",
              "358             8869     2033 2023-05-27 05:04:00+00:00  525.66      fr   \n",
              "8589            3156     4874 2023-05-23 15:03:00+00:00  521.84      fr   \n",
              "6534            3337     3334 2023-07-04 03:21:00+00:00   495.2      us   \n",
              "2495            4863     4488 2023-11-20 14:36:00+00:00  472.64      jp   \n",
              "6704            7074     1348 2023-07-02 21:42:00+00:00  461.67      de   \n",
              "2103            4962     1256 2023-01-30 05:43:00+00:00   454.2      ca   \n",
              "6266            4321     1979 2023-05-20 15:21:00+00:00   441.8      in   \n",
              "7157            5935     3369 2023-12-11 08:33:00+00:00  432.64      ca   \n",
              "5147            6188     4074 2023-09-14 02:48:00+00:00   430.5      us   \n",
              "\n",
              "       device channel  hour  dayofweek  coupon_applied  num_items  is_fraud  \n",
              "4497   tablet  social    20          4           False          2      True  \n",
              "358   desktop     app     5          5           False          5      True  \n",
              "8589  desktop     web    15          1           False          2      True  \n",
              "6534   mobile     app     3          1           False          3      True  \n",
              "2495   mobile     web    14          0           False          3      True  \n",
              "6704  desktop     app    21          6           False          4      True  \n",
              "2103   mobile     web     5          0           False          4      True  \n",
              "6266  desktop     app    15          5           False          3      True  \n",
              "7157  desktop     app     8          0            True          4      True  \n",
              "5147  desktop     app     2          3            True          1      True  "
            ]
          },
          "metadata": {},
          "output_type": "display_data"
        }
      ],
      "source": [
        "# IQR-based outlier detection for 'amount' (no auto removal)\n",
        "if \"amount\" in df_clean.columns:\n",
        "    q1, q3 = df_clean[\"amount\"].quantile([0.25, 0.75])\n",
        "    iqr = float(q3 - q1)\n",
        "    lower, upper = float(q1 - 1.5 * iqr), float(q3 + 1.5 * iqr)\n",
        "    outlier_mask = (df_clean[\"amount\"] < lower) | (df_clean[\"amount\"] > upper)\n",
        "    print(f\"Potential amount outliers: {int(outlier_mask.sum())}\")\n",
        "    print(f\"IQR bounds -> lower: {lower:.2f}, upper: {upper:.2f}\")\n",
        "\n",
        "    # Show top largest outliers for quick review\n",
        "    display(df_clean.loc[outlier_mask].sort_values(\"amount\", ascending=False).head(10))\n",
        "else:\n",
        "    print(\"Column 'amount' not found for outlier check.\")"
      ]
    },
    {
      "cell_type": "code",
      "execution_count": 24,
      "metadata": {},
      "outputs": [],
      "source": [
        "## These outliers will be retained for now as they may represent legitimate high-value transactions or fraud cases. Further analysis will determine their treatment."
      ]
    },
    {
      "cell_type": "markdown",
      "metadata": {
        "id": "ZY3l0-AxO93d"
      },
      "source": [
        "---"
      ]
    },
    {
      "cell_type": "code",
      "execution_count": 25,
      "metadata": {},
      "outputs": [],
      "source": [
        "## We will now save the cleaned dataset to a new CSV file and move on the EDA section."
      ]
    },
    {
      "cell_type": "code",
      "execution_count": 31,
      "metadata": {},
      "outputs": [
        {
          "name": "stdout",
          "output_type": "stream",
          "text": [
            "✅ Dataset saved successfully to: DataSet/Cleaned/cleaned_transactions.csv\n",
            "📊 Summary of cleaned data:\n",
            "  rows: 10000\n",
            "  cols: 12\n",
            "  unique_transactions: 10000\n",
            "  unique_users: 3664\n",
            "  time_min_utc: 2023-01-01 00:05:00+00:00\n",
            "  time_max_utc: 2023-12-31 23:58:00+00:00\n"
          ]
        }
      ],
      "source": [
        "# here we will save the cleaned dataset to a new CSV file located in the DataSet/Cleaned folder\n",
        "\n",
        "# Save the cleaned dataset (corrected version)\n",
        "output_path = \"DataSet/Cleaned/cleaned_transactions.csv\"\n",
        "df_clean.to_csv(output_path, index=False)\n",
        "\n",
        "# Create summary statistics\n",
        "summary = {\n",
        "    \"rows\": len(df_clean),\n",
        "    \"cols\": df_clean.shape[1],\n",
        "    \"unique_transactions\": int(df_clean[\"transaction_id\"].nunique()) if \"transaction_id\" in df_clean.columns else None,\n",
        "    \"unique_users\": int(df_clean[\"user_id\"].nunique()) if \"user_id\" in df_clean.columns else None,\n",
        "    \"time_min_utc\": str(df_clean[\"timestamp\"].min()) if \"timestamp\" in df_clean.columns else None,\n",
        "    \"time_max_utc\": str(df_clean[\"timestamp\"].max()) if \"timestamp\" in df_clean.columns else None,\n",
        "}\n",
        "\n",
        "print(f\"✅ Dataset saved successfully to: {output_path}\")\n",
        "print(\"📊 Summary of cleaned data:\")\n",
        "for key, value in summary.items():\n",
        "    print(f\"  {key}: {value}\")"
      ]
    },
    {
      "cell_type": "markdown",
      "metadata": {},
      "source": [
        "---"
      ]
    },
    {
      "cell_type": "markdown",
      "metadata": {},
      "source": [
        "---"
      ]
    }
  ],
  "metadata": {
    "accelerator": "GPU",
    "colab": {
      "name": "Data Practitioner Jupyter Notebook.ipynb",
      "provenance": [],
      "toc_visible": true
    },
    "kernelspec": {
      "display_name": "Python 3",
      "language": "python",
      "name": "python3"
    },
    "language_info": {
      "codemirror_mode": {
        "name": "ipython",
        "version": 3
      },
      "file_extension": ".py",
      "mimetype": "text/x-python",
      "name": "python",
      "nbconvert_exporter": "python",
      "pygments_lexer": "ipython3",
      "version": "3.12.8"
    },
    "orig_nbformat": 2
  },
  "nbformat": 4,
  "nbformat_minor": 2
}
