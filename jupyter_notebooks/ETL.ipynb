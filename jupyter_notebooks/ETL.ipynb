{
  "cells": [
    {
      "cell_type": "markdown",
      "metadata": {
        "id": "0aStgWSO0E0E"
      },
      "source": [
        "# **E-Commerce Fraud Detection ETL**"
      ]
    },
    {
      "cell_type": "markdown",
      "metadata": {
        "id": "1eLEkw5O0ECa"
      },
      "source": [
        "## Objectives\n",
        "\n",
        "* In this notebook, you will perform the ETL (Extract, Transform, Load) process on the e-commerce fraud detection dataset. The goal is to clean and preprocess the data to make it suitable for analysis and modeling.\n",
        "\n",
        "## Inputs\n",
        "\n",
        "*  The Raw dataset file Synthetic Fraud Transactions.csv, I have also used Python libraries such as Pandas and NumPy for data manipulation and analysis.\n",
        "\n",
        "## Outputs\n",
        "\n",
        "* \n",
        "\n",
        "## Additional Comments\n",
        "\n",
        "* If you have any additional comments that don't fit in the previous bullets, please state them here. \n",
        "\n"
      ]
    },
    {
      "cell_type": "markdown",
      "metadata": {
        "id": "9uWZXH9LwoQg"
      },
      "source": [
        "---"
      ]
    },
    {
      "cell_type": "markdown",
      "metadata": {
        "id": "cqP-UeN-z3i2"
      },
      "source": [
        "# Change working directory"
      ]
    },
    {
      "cell_type": "markdown",
      "metadata": {},
      "source": [
        "* We are assuming you will store the notebooks in a subfolder, therefore when running the notebook in the editor, you will need to change the working directory"
      ]
    },
    {
      "cell_type": "markdown",
      "metadata": {
        "id": "aOGIGS-uz3i2"
      },
      "source": [
        "We need to change the working directory from its current folder to its parent folder\n",
        "* We access the current directory with os.getcwd()"
      ]
    },
    {
      "cell_type": "code",
      "execution_count": 6,
      "metadata": {
        "id": "wZfF_j-Bz3i4",
        "outputId": "66943449-1436-4c3d-85c7-b85f9f78349b"
      },
      "outputs": [
        {
          "data": {
            "text/plain": [
              "'c:\\\\Users\\\\Nine\\\\OneDrive\\\\Documents\\\\VS Code Projects\\\\E-Commerce-Fraud-Detection-Capstone\\\\E-Commerce-Fraud-Detection-Capstone\\\\jupyter_notebooks'"
            ]
          },
          "execution_count": 6,
          "metadata": {},
          "output_type": "execute_result"
        }
      ],
      "source": [
        "import os\n",
        "current_dir = os.getcwd()\n",
        "current_dir"
      ]
    },
    {
      "cell_type": "markdown",
      "metadata": {
        "id": "9MWW8E7lz3i7"
      },
      "source": [
        "We want to make the parent of the current directory the new current directory\n",
        "* os.path.dirname() gets the parent directory\n",
        "* os.chir() defines the new current directory"
      ]
    },
    {
      "cell_type": "code",
      "execution_count": 7,
      "metadata": {
        "id": "TwHsQRWjz3i9",
        "outputId": "86849db3-cd2f-4cc5-ebb8-2d0caafa1a2c"
      },
      "outputs": [
        {
          "name": "stdout",
          "output_type": "stream",
          "text": [
            "You set a new current directory\n"
          ]
        }
      ],
      "source": [
        "os.chdir(os.path.dirname(current_dir))\n",
        "print(\"You set a new current directory\")"
      ]
    },
    {
      "cell_type": "markdown",
      "metadata": {
        "id": "M_xPk_Ijz3i-"
      },
      "source": [
        "Confirm the new current directory"
      ]
    },
    {
      "cell_type": "code",
      "execution_count": 8,
      "metadata": {
        "id": "vz3S-_kjz3jA",
        "outputId": "00b79ae4-75d0-4a96-d193-ac9ef9847ea2"
      },
      "outputs": [
        {
          "data": {
            "text/plain": [
              "'c:\\\\Users\\\\Nine\\\\OneDrive\\\\Documents\\\\VS Code Projects\\\\E-Commerce-Fraud-Detection-Capstone\\\\E-Commerce-Fraud-Detection-Capstone'"
            ]
          },
          "execution_count": 8,
          "metadata": {},
          "output_type": "execute_result"
        }
      ],
      "source": [
        "current_dir = os.getcwd()\n",
        "current_dir"
      ]
    },
    {
      "cell_type": "markdown",
      "metadata": {
        "id": "-mavJ8DibrcQ"
      },
      "source": [
        "# Extract and Load Raw Data"
      ]
    },
    {
      "cell_type": "code",
      "execution_count": 9,
      "metadata": {},
      "outputs": [],
      "source": [
        "# Import Libraries\n",
        "import pandas as pd\n",
        "import numpy as np"
      ]
    },
    {
      "cell_type": "markdown",
      "metadata": {},
      "source": [
        "## Extract ZIP file and load data"
      ]
    },
    {
      "cell_type": "code",
      "execution_count": 10,
      "metadata": {},
      "outputs": [
        {
          "name": "stdout",
          "output_type": "stream",
          "text": [
            "ZIP file extracted successfully!\n",
            "Extracted files: ['data_dictionary.csv', 'README.md', 'Synthetic Fraud Transactions.zip', 'transactions.csv']\n"
          ]
        }
      ],
      "source": [
        "import zipfile\n",
        "import os\n",
        "\n",
        "# Extract the ZIP file\n",
        "zip_path = \"DataSet/Raw/Synthetic Fraud Transactions.zip\"\n",
        "extract_path = \"DataSet/Raw/\"\n",
        "\n",
        "with zipfile.ZipFile(zip_path, 'r') as zip_ref:\n",
        "    zip_ref.extractall(extract_path)\n",
        "    print(\"ZIP file extracted successfully!\")\n",
        "\n",
        "# List the extracted files\n",
        "extracted_files = os.listdir(extract_path)\n",
        "print(\"Extracted files:\", extracted_files)"
      ]
    },
    {
      "cell_type": "code",
      "execution_count": 11,
      "metadata": {},
      "outputs": [
        {
          "name": "stdout",
          "output_type": "stream",
          "text": [
            "Dataset loaded successfully!\n",
            "Shape: (10000, 12)\n",
            "Columns: ['transaction_id', 'user_id', 'timestamp', 'amount', 'country', 'device', 'channel', 'hour', 'dayofweek', 'coupon_applied', 'num_items', 'is_fraud']\n"
          ]
        },
        {
          "data": {
            "text/html": [
              "<div>\n",
              "<style scoped>\n",
              "    .dataframe tbody tr th:only-of-type {\n",
              "        vertical-align: middle;\n",
              "    }\n",
              "\n",
              "    .dataframe tbody tr th {\n",
              "        vertical-align: top;\n",
              "    }\n",
              "\n",
              "    .dataframe thead th {\n",
              "        text-align: right;\n",
              "    }\n",
              "</style>\n",
              "<table border=\"1\" class=\"dataframe\">\n",
              "  <thead>\n",
              "    <tr style=\"text-align: right;\">\n",
              "      <th></th>\n",
              "      <th>transaction_id</th>\n",
              "      <th>user_id</th>\n",
              "      <th>timestamp</th>\n",
              "      <th>amount</th>\n",
              "      <th>country</th>\n",
              "      <th>device</th>\n",
              "      <th>channel</th>\n",
              "      <th>hour</th>\n",
              "      <th>dayofweek</th>\n",
              "      <th>coupon_applied</th>\n",
              "      <th>num_items</th>\n",
              "      <th>is_fraud</th>\n",
              "    </tr>\n",
              "  </thead>\n",
              "  <tbody>\n",
              "    <tr>\n",
              "      <th>0</th>\n",
              "      <td>6253</td>\n",
              "      <td>3594</td>\n",
              "      <td>2023-01-28 06:04:00</td>\n",
              "      <td>125.79</td>\n",
              "      <td>US</td>\n",
              "      <td>mobile</td>\n",
              "      <td>ads</td>\n",
              "      <td>6</td>\n",
              "      <td>5</td>\n",
              "      <td>0</td>\n",
              "      <td>5</td>\n",
              "      <td>0</td>\n",
              "    </tr>\n",
              "    <tr>\n",
              "      <th>1</th>\n",
              "      <td>4685</td>\n",
              "      <td>2502</td>\n",
              "      <td>2023-04-27 21:32:00</td>\n",
              "      <td>153.40</td>\n",
              "      <td>DE</td>\n",
              "      <td>mobile</td>\n",
              "      <td>web</td>\n",
              "      <td>21</td>\n",
              "      <td>3</td>\n",
              "      <td>0</td>\n",
              "      <td>3</td>\n",
              "      <td>0</td>\n",
              "    </tr>\n",
              "    <tr>\n",
              "      <th>2</th>\n",
              "      <td>1732</td>\n",
              "      <td>2287</td>\n",
              "      <td>2023-08-19 19:03:00</td>\n",
              "      <td>7.64</td>\n",
              "      <td>IN</td>\n",
              "      <td>tablet</td>\n",
              "      <td>app</td>\n",
              "      <td>19</td>\n",
              "      <td>5</td>\n",
              "      <td>0</td>\n",
              "      <td>3</td>\n",
              "      <td>0</td>\n",
              "    </tr>\n",
              "    <tr>\n",
              "      <th>3</th>\n",
              "      <td>4743</td>\n",
              "      <td>3043</td>\n",
              "      <td>2023-03-14 04:56:00</td>\n",
              "      <td>36.36</td>\n",
              "      <td>US</td>\n",
              "      <td>mobile</td>\n",
              "      <td>web</td>\n",
              "      <td>4</td>\n",
              "      <td>1</td>\n",
              "      <td>1</td>\n",
              "      <td>2</td>\n",
              "      <td>0</td>\n",
              "    </tr>\n",
              "    <tr>\n",
              "      <th>4</th>\n",
              "      <td>4522</td>\n",
              "      <td>4629</td>\n",
              "      <td>2023-09-24 21:33:00</td>\n",
              "      <td>55.17</td>\n",
              "      <td>ES</td>\n",
              "      <td>mobile</td>\n",
              "      <td>app</td>\n",
              "      <td>21</td>\n",
              "      <td>6</td>\n",
              "      <td>0</td>\n",
              "      <td>1</td>\n",
              "      <td>0</td>\n",
              "    </tr>\n",
              "  </tbody>\n",
              "</table>\n",
              "</div>"
            ],
            "text/plain": [
              "   transaction_id  user_id            timestamp  amount country  device  \\\n",
              "0            6253     3594  2023-01-28 06:04:00  125.79      US  mobile   \n",
              "1            4685     2502  2023-04-27 21:32:00  153.40      DE  mobile   \n",
              "2            1732     2287  2023-08-19 19:03:00    7.64      IN  tablet   \n",
              "3            4743     3043  2023-03-14 04:56:00   36.36      US  mobile   \n",
              "4            4522     4629  2023-09-24 21:33:00   55.17      ES  mobile   \n",
              "\n",
              "  channel  hour  dayofweek  coupon_applied  num_items  is_fraud  \n",
              "0     ads     6          5               0          5         0  \n",
              "1     web    21          3               0          3         0  \n",
              "2     app    19          5               0          3         0  \n",
              "3     web     4          1               1          2         0  \n",
              "4     app    21          6               0          1         0  "
            ]
          },
          "execution_count": 11,
          "metadata": {},
          "output_type": "execute_result"
        }
      ],
      "source": [
        "# Load the main dataset\n",
        "df = pd.read_csv(\"DataSet/Raw/transactions.csv\")\n",
        "\n",
        "print(f\"Dataset loaded successfully!\")\n",
        "print(f\"Shape: {df.shape}\")\n",
        "print(f\"Columns: {list(df.columns)}\")\n",
        "\n",
        "# Display first few rows\n",
        "df.head()"
      ]
    },
    {
      "cell_type": "code",
      "execution_count": 12,
      "metadata": {},
      "outputs": [],
      "source": [
        "## Next we will check the structure of the data and clean it accordingly."
      ]
    },
    {
      "cell_type": "code",
      "execution_count": 13,
      "metadata": {},
      "outputs": [
        {
          "name": "stdout",
          "output_type": "stream",
          "text": [
            "(10000, 12)\n",
            "<class 'pandas.core.frame.DataFrame'>\n",
            "RangeIndex: 10000 entries, 0 to 9999\n",
            "Data columns (total 12 columns):\n",
            " #   Column          Non-Null Count  Dtype  \n",
            "---  ------          --------------  -----  \n",
            " 0   transaction_id  10000 non-null  int64  \n",
            " 1   user_id         10000 non-null  int64  \n",
            " 2   timestamp       10000 non-null  object \n",
            " 3   amount          10000 non-null  float64\n",
            " 4   country         10000 non-null  object \n",
            " 5   device          10000 non-null  object \n",
            " 6   channel         10000 non-null  object \n",
            " 7   hour            10000 non-null  int64  \n",
            " 8   dayofweek       10000 non-null  int64  \n",
            " 9   coupon_applied  10000 non-null  int64  \n",
            " 10  num_items       10000 non-null  int64  \n",
            " 11  is_fraud        10000 non-null  int64  \n",
            "dtypes: float64(1), int64(7), object(4)\n",
            "memory usage: 937.6+ KB\n"
          ]
        },
        {
          "data": {
            "text/html": [
              "<div>\n",
              "<style scoped>\n",
              "    .dataframe tbody tr th:only-of-type {\n",
              "        vertical-align: middle;\n",
              "    }\n",
              "\n",
              "    .dataframe tbody tr th {\n",
              "        vertical-align: top;\n",
              "    }\n",
              "\n",
              "    .dataframe thead th {\n",
              "        text-align: right;\n",
              "    }\n",
              "</style>\n",
              "<table border=\"1\" class=\"dataframe\">\n",
              "  <thead>\n",
              "    <tr style=\"text-align: right;\">\n",
              "      <th></th>\n",
              "      <th>count</th>\n",
              "      <th>unique</th>\n",
              "      <th>top</th>\n",
              "      <th>freq</th>\n",
              "      <th>mean</th>\n",
              "      <th>std</th>\n",
              "      <th>min</th>\n",
              "      <th>25%</th>\n",
              "      <th>50%</th>\n",
              "      <th>75%</th>\n",
              "      <th>max</th>\n",
              "    </tr>\n",
              "  </thead>\n",
              "  <tbody>\n",
              "    <tr>\n",
              "      <th>transaction_id</th>\n",
              "      <td>10000.0</td>\n",
              "      <td>NaN</td>\n",
              "      <td>NaN</td>\n",
              "      <td>NaN</td>\n",
              "      <td>5000.5</td>\n",
              "      <td>2886.89568</td>\n",
              "      <td>1.0</td>\n",
              "      <td>2500.75</td>\n",
              "      <td>5000.5</td>\n",
              "      <td>7500.25</td>\n",
              "      <td>10000.0</td>\n",
              "    </tr>\n",
              "    <tr>\n",
              "      <th>user_id</th>\n",
              "      <td>10000.0</td>\n",
              "      <td>NaN</td>\n",
              "      <td>NaN</td>\n",
              "      <td>NaN</td>\n",
              "      <td>3010.5611</td>\n",
              "      <td>1152.371939</td>\n",
              "      <td>1000.0</td>\n",
              "      <td>2001.75</td>\n",
              "      <td>3004.0</td>\n",
              "      <td>4010.0</td>\n",
              "      <td>4999.0</td>\n",
              "    </tr>\n",
              "    <tr>\n",
              "      <th>timestamp</th>\n",
              "      <td>10000</td>\n",
              "      <td>9930</td>\n",
              "      <td>2023-01-12 08:55:00</td>\n",
              "      <td>3</td>\n",
              "      <td>NaN</td>\n",
              "      <td>NaN</td>\n",
              "      <td>NaN</td>\n",
              "      <td>NaN</td>\n",
              "      <td>NaN</td>\n",
              "      <td>NaN</td>\n",
              "      <td>NaN</td>\n",
              "    </tr>\n",
              "    <tr>\n",
              "      <th>amount</th>\n",
              "      <td>10000.0</td>\n",
              "      <td>NaN</td>\n",
              "      <td>NaN</td>\n",
              "      <td>NaN</td>\n",
              "      <td>79.797354</td>\n",
              "      <td>61.4693</td>\n",
              "      <td>2.01</td>\n",
              "      <td>36.785</td>\n",
              "      <td>62.245</td>\n",
              "      <td>105.0</td>\n",
              "      <td>530.7</td>\n",
              "    </tr>\n",
              "    <tr>\n",
              "      <th>country</th>\n",
              "      <td>10000</td>\n",
              "      <td>10</td>\n",
              "      <td>US</td>\n",
              "      <td>1951</td>\n",
              "      <td>NaN</td>\n",
              "      <td>NaN</td>\n",
              "      <td>NaN</td>\n",
              "      <td>NaN</td>\n",
              "      <td>NaN</td>\n",
              "      <td>NaN</td>\n",
              "      <td>NaN</td>\n",
              "    </tr>\n",
              "    <tr>\n",
              "      <th>device</th>\n",
              "      <td>10000</td>\n",
              "      <td>3</td>\n",
              "      <td>mobile</td>\n",
              "      <td>5961</td>\n",
              "      <td>NaN</td>\n",
              "      <td>NaN</td>\n",
              "      <td>NaN</td>\n",
              "      <td>NaN</td>\n",
              "      <td>NaN</td>\n",
              "      <td>NaN</td>\n",
              "      <td>NaN</td>\n",
              "    </tr>\n",
              "    <tr>\n",
              "      <th>channel</th>\n",
              "      <td>10000</td>\n",
              "      <td>5</td>\n",
              "      <td>web</td>\n",
              "      <td>4519</td>\n",
              "      <td>NaN</td>\n",
              "      <td>NaN</td>\n",
              "      <td>NaN</td>\n",
              "      <td>NaN</td>\n",
              "      <td>NaN</td>\n",
              "      <td>NaN</td>\n",
              "      <td>NaN</td>\n",
              "    </tr>\n",
              "    <tr>\n",
              "      <th>hour</th>\n",
              "      <td>10000.0</td>\n",
              "      <td>NaN</td>\n",
              "      <td>NaN</td>\n",
              "      <td>NaN</td>\n",
              "      <td>11.5847</td>\n",
              "      <td>6.937913</td>\n",
              "      <td>0.0</td>\n",
              "      <td>6.0</td>\n",
              "      <td>12.0</td>\n",
              "      <td>18.0</td>\n",
              "      <td>23.0</td>\n",
              "    </tr>\n",
              "    <tr>\n",
              "      <th>dayofweek</th>\n",
              "      <td>10000.0</td>\n",
              "      <td>NaN</td>\n",
              "      <td>NaN</td>\n",
              "      <td>NaN</td>\n",
              "      <td>3.03</td>\n",
              "      <td>1.999025</td>\n",
              "      <td>0.0</td>\n",
              "      <td>1.0</td>\n",
              "      <td>3.0</td>\n",
              "      <td>5.0</td>\n",
              "      <td>6.0</td>\n",
              "    </tr>\n",
              "    <tr>\n",
              "      <th>coupon_applied</th>\n",
              "      <td>10000.0</td>\n",
              "      <td>NaN</td>\n",
              "      <td>NaN</td>\n",
              "      <td>NaN</td>\n",
              "      <td>0.2441</td>\n",
              "      <td>0.429574</td>\n",
              "      <td>0.0</td>\n",
              "      <td>0.0</td>\n",
              "      <td>0.0</td>\n",
              "      <td>0.0</td>\n",
              "      <td>1.0</td>\n",
              "    </tr>\n",
              "    <tr>\n",
              "      <th>num_items</th>\n",
              "      <td>10000.0</td>\n",
              "      <td>NaN</td>\n",
              "      <td>NaN</td>\n",
              "      <td>NaN</td>\n",
              "      <td>3.192</td>\n",
              "      <td>1.488945</td>\n",
              "      <td>1.0</td>\n",
              "      <td>2.0</td>\n",
              "      <td>3.0</td>\n",
              "      <td>4.0</td>\n",
              "      <td>11.0</td>\n",
              "    </tr>\n",
              "    <tr>\n",
              "      <th>is_fraud</th>\n",
              "      <td>10000.0</td>\n",
              "      <td>NaN</td>\n",
              "      <td>NaN</td>\n",
              "      <td>NaN</td>\n",
              "      <td>0.0643</td>\n",
              "      <td>0.245299</td>\n",
              "      <td>0.0</td>\n",
              "      <td>0.0</td>\n",
              "      <td>0.0</td>\n",
              "      <td>0.0</td>\n",
              "      <td>1.0</td>\n",
              "    </tr>\n",
              "  </tbody>\n",
              "</table>\n",
              "</div>"
            ],
            "text/plain": [
              "                  count unique                  top  freq       mean  \\\n",
              "transaction_id  10000.0    NaN                  NaN   NaN     5000.5   \n",
              "user_id         10000.0    NaN                  NaN   NaN  3010.5611   \n",
              "timestamp         10000   9930  2023-01-12 08:55:00     3        NaN   \n",
              "amount          10000.0    NaN                  NaN   NaN  79.797354   \n",
              "country           10000     10                   US  1951        NaN   \n",
              "device            10000      3               mobile  5961        NaN   \n",
              "channel           10000      5                  web  4519        NaN   \n",
              "hour            10000.0    NaN                  NaN   NaN    11.5847   \n",
              "dayofweek       10000.0    NaN                  NaN   NaN       3.03   \n",
              "coupon_applied  10000.0    NaN                  NaN   NaN     0.2441   \n",
              "num_items       10000.0    NaN                  NaN   NaN      3.192   \n",
              "is_fraud        10000.0    NaN                  NaN   NaN     0.0643   \n",
              "\n",
              "                        std     min      25%     50%      75%      max  \n",
              "transaction_id   2886.89568     1.0  2500.75  5000.5  7500.25  10000.0  \n",
              "user_id         1152.371939  1000.0  2001.75  3004.0   4010.0   4999.0  \n",
              "timestamp               NaN     NaN      NaN     NaN      NaN      NaN  \n",
              "amount              61.4693    2.01   36.785  62.245    105.0    530.7  \n",
              "country                 NaN     NaN      NaN     NaN      NaN      NaN  \n",
              "device                  NaN     NaN      NaN     NaN      NaN      NaN  \n",
              "channel                 NaN     NaN      NaN     NaN      NaN      NaN  \n",
              "hour               6.937913     0.0      6.0    12.0     18.0     23.0  \n",
              "dayofweek          1.999025     0.0      1.0     3.0      5.0      6.0  \n",
              "coupon_applied     0.429574     0.0      0.0     0.0      0.0      1.0  \n",
              "num_items          1.488945     1.0      2.0     3.0      4.0     11.0  \n",
              "is_fraud           0.245299     0.0      0.0     0.0      0.0      1.0  "
            ]
          },
          "execution_count": 13,
          "metadata": {},
          "output_type": "execute_result"
        }
      ],
      "source": [
        "print(df.shape)     # rows, cols\n",
        "df.info()\n",
        "df.describe(include=\"all\").T.head(20)"
      ]
    },
    {
      "cell_type": "markdown",
      "metadata": {
        "id": "ZY3l0-AxO93d"
      },
      "source": [
        "---"
      ]
    },
    {
      "cell_type": "markdown",
      "metadata": {
        "id": "uFQo3ycuO-v6"
      },
      "source": [
        "# Section 2"
      ]
    },
    {
      "cell_type": "markdown",
      "metadata": {},
      "source": [
        "Section 2 content"
      ]
    },
    {
      "cell_type": "markdown",
      "metadata": {},
      "source": [
        "---"
      ]
    },
    {
      "cell_type": "markdown",
      "metadata": {},
      "source": [
        "NOTE"
      ]
    },
    {
      "cell_type": "markdown",
      "metadata": {},
      "source": [
        "* You may add as many sections as you want, as long as it supports your project workflow.\n",
        "* All notebook's cells should be run top-down (you can't create a dynamic wherein a given point you need to go back to a previous cell to execute some task, like go back to a previous cell and refresh a variable content)"
      ]
    },
    {
      "cell_type": "markdown",
      "metadata": {},
      "source": [
        "---"
      ]
    }
  ],
  "metadata": {
    "accelerator": "GPU",
    "colab": {
      "name": "Data Practitioner Jupyter Notebook.ipynb",
      "provenance": [],
      "toc_visible": true
    },
    "kernelspec": {
      "display_name": "Python 3",
      "language": "python",
      "name": "python3"
    },
    "language_info": {
      "codemirror_mode": {
        "name": "ipython",
        "version": 3
      },
      "file_extension": ".py",
      "mimetype": "text/x-python",
      "name": "python",
      "nbconvert_exporter": "python",
      "pygments_lexer": "ipython3",
      "version": "3.12.8"
    },
    "orig_nbformat": 2
  },
  "nbformat": 4,
  "nbformat_minor": 2
}
