{
  "cells": [
    {
      "cell_type": "markdown",
      "metadata": {
        "id": "0aStgWSO0E0E"
      },
      "source": [
        "**E-Commerce Fraud Detection EDA**"
      ]
    },
    {
      "cell_type": "markdown",
      "metadata": {
        "id": "1eLEkw5O0ECa"
      },
      "source": [
        "## Objectives\n",
        "\n",
        "* In this notebook we will load the new cleaned dataset and perform exploratory data analysis (EDA) to understand the data better and identify patterns that may help in fraud detection.\n",
        "\n",
        "## Inputs\n",
        "\n",
        "* The cleaned dataset file cleaned_transactions.csv from the DataSet/Cleaned folder, Pandas, Numpy, and Matplotlib libraries.\n",
        "\n",
        "## Outputs\n",
        "\n",
        "* \n",
        "\n",
        "## Additional Comments\n",
        "\n",
        "* \n",
        "\n"
      ]
    },
    {
      "cell_type": "markdown",
      "metadata": {
        "id": "9uWZXH9LwoQg"
      },
      "source": [
        "---"
      ]
    },
    {
      "cell_type": "markdown",
      "metadata": {
        "id": "cqP-UeN-z3i2"
      },
      "source": [
        "# Change working directory"
      ]
    },
    {
      "cell_type": "markdown",
      "metadata": {},
      "source": [
        "* We are assuming you will store the notebooks in a subfolder, therefore when running the notebook in the editor, you will need to change the working directory"
      ]
    },
    {
      "cell_type": "markdown",
      "metadata": {
        "id": "aOGIGS-uz3i2"
      },
      "source": [
        "We need to change the working directory from its current folder to its parent folder\n",
        "* We access the current directory with os.getcwd()"
      ]
    },
    {
      "cell_type": "code",
      "execution_count": 2,
      "metadata": {
        "id": "wZfF_j-Bz3i4",
        "outputId": "66943449-1436-4c3d-85c7-b85f9f78349b"
      },
      "outputs": [
        {
          "data": {
            "text/plain": [
              "'c:\\\\Users\\\\Nine\\\\OneDrive\\\\Documents\\\\VS Code Projects\\\\E-Commerce-Fraud-Detection-Capstone\\\\E-Commerce-Fraud-Detection-Capstone\\\\jupyter_notebooks'"
            ]
          },
          "execution_count": 2,
          "metadata": {},
          "output_type": "execute_result"
        }
      ],
      "source": [
        "import os\n",
        "current_dir = os.getcwd()\n",
        "current_dir"
      ]
    },
    {
      "cell_type": "markdown",
      "metadata": {
        "id": "9MWW8E7lz3i7"
      },
      "source": [
        "We want to make the parent of the current directory the new current directory\n",
        "* os.path.dirname() gets the parent directory\n",
        "* os.chir() defines the new current directory"
      ]
    },
    {
      "cell_type": "code",
      "execution_count": 3,
      "metadata": {
        "id": "TwHsQRWjz3i9",
        "outputId": "86849db3-cd2f-4cc5-ebb8-2d0caafa1a2c"
      },
      "outputs": [
        {
          "name": "stdout",
          "output_type": "stream",
          "text": [
            "You set a new current directory\n"
          ]
        }
      ],
      "source": [
        "os.chdir(os.path.dirname(current_dir))\n",
        "print(\"You set a new current directory\")"
      ]
    },
    {
      "cell_type": "markdown",
      "metadata": {
        "id": "M_xPk_Ijz3i-"
      },
      "source": [
        "Confirm the new current directory"
      ]
    },
    {
      "cell_type": "code",
      "execution_count": 4,
      "metadata": {
        "id": "vz3S-_kjz3jA",
        "outputId": "00b79ae4-75d0-4a96-d193-ac9ef9847ea2"
      },
      "outputs": [
        {
          "data": {
            "text/plain": [
              "'c:\\\\Users\\\\Nine\\\\OneDrive\\\\Documents\\\\VS Code Projects\\\\E-Commerce-Fraud-Detection-Capstone\\\\E-Commerce-Fraud-Detection-Capstone'"
            ]
          },
          "execution_count": 4,
          "metadata": {},
          "output_type": "execute_result"
        }
      ],
      "source": [
        "current_dir = os.getcwd()\n",
        "current_dir"
      ]
    },
    {
      "cell_type": "code",
      "execution_count": 5,
      "metadata": {},
      "outputs": [
        {
          "data": {
            "text/html": [
              "<div>\n",
              "<style scoped>\n",
              "    .dataframe tbody tr th:only-of-type {\n",
              "        vertical-align: middle;\n",
              "    }\n",
              "\n",
              "    .dataframe tbody tr th {\n",
              "        vertical-align: top;\n",
              "    }\n",
              "\n",
              "    .dataframe thead th {\n",
              "        text-align: right;\n",
              "    }\n",
              "</style>\n",
              "<table border=\"1\" class=\"dataframe\">\n",
              "  <thead>\n",
              "    <tr style=\"text-align: right;\">\n",
              "      <th></th>\n",
              "      <th>transaction_id</th>\n",
              "      <th>user_id</th>\n",
              "      <th>timestamp</th>\n",
              "      <th>amount</th>\n",
              "      <th>country</th>\n",
              "      <th>device</th>\n",
              "      <th>channel</th>\n",
              "      <th>hour</th>\n",
              "      <th>dayofweek</th>\n",
              "      <th>coupon_applied</th>\n",
              "      <th>num_items</th>\n",
              "      <th>is_fraud</th>\n",
              "    </tr>\n",
              "  </thead>\n",
              "  <tbody>\n",
              "    <tr>\n",
              "      <th>0</th>\n",
              "      <td>6253</td>\n",
              "      <td>3594</td>\n",
              "      <td>2023-01-28 06:04:00+00:00</td>\n",
              "      <td>125.79</td>\n",
              "      <td>us</td>\n",
              "      <td>mobile</td>\n",
              "      <td>ads</td>\n",
              "      <td>6</td>\n",
              "      <td>5</td>\n",
              "      <td>False</td>\n",
              "      <td>5</td>\n",
              "      <td>False</td>\n",
              "    </tr>\n",
              "    <tr>\n",
              "      <th>1</th>\n",
              "      <td>4685</td>\n",
              "      <td>2502</td>\n",
              "      <td>2023-04-27 21:32:00+00:00</td>\n",
              "      <td>153.40</td>\n",
              "      <td>de</td>\n",
              "      <td>mobile</td>\n",
              "      <td>web</td>\n",
              "      <td>21</td>\n",
              "      <td>3</td>\n",
              "      <td>False</td>\n",
              "      <td>3</td>\n",
              "      <td>False</td>\n",
              "    </tr>\n",
              "    <tr>\n",
              "      <th>2</th>\n",
              "      <td>1732</td>\n",
              "      <td>2287</td>\n",
              "      <td>2023-08-19 19:03:00+00:00</td>\n",
              "      <td>7.64</td>\n",
              "      <td>in</td>\n",
              "      <td>tablet</td>\n",
              "      <td>app</td>\n",
              "      <td>19</td>\n",
              "      <td>5</td>\n",
              "      <td>False</td>\n",
              "      <td>3</td>\n",
              "      <td>False</td>\n",
              "    </tr>\n",
              "    <tr>\n",
              "      <th>3</th>\n",
              "      <td>4743</td>\n",
              "      <td>3043</td>\n",
              "      <td>2023-03-14 04:56:00+00:00</td>\n",
              "      <td>36.36</td>\n",
              "      <td>us</td>\n",
              "      <td>mobile</td>\n",
              "      <td>web</td>\n",
              "      <td>4</td>\n",
              "      <td>1</td>\n",
              "      <td>True</td>\n",
              "      <td>2</td>\n",
              "      <td>False</td>\n",
              "    </tr>\n",
              "    <tr>\n",
              "      <th>4</th>\n",
              "      <td>4522</td>\n",
              "      <td>4629</td>\n",
              "      <td>2023-09-24 21:33:00+00:00</td>\n",
              "      <td>55.17</td>\n",
              "      <td>es</td>\n",
              "      <td>mobile</td>\n",
              "      <td>app</td>\n",
              "      <td>21</td>\n",
              "      <td>6</td>\n",
              "      <td>False</td>\n",
              "      <td>1</td>\n",
              "      <td>False</td>\n",
              "    </tr>\n",
              "  </tbody>\n",
              "</table>\n",
              "</div>"
            ],
            "text/plain": [
              "   transaction_id  user_id                  timestamp  amount country  device  \\\n",
              "0            6253     3594  2023-01-28 06:04:00+00:00  125.79      us  mobile   \n",
              "1            4685     2502  2023-04-27 21:32:00+00:00  153.40      de  mobile   \n",
              "2            1732     2287  2023-08-19 19:03:00+00:00    7.64      in  tablet   \n",
              "3            4743     3043  2023-03-14 04:56:00+00:00   36.36      us  mobile   \n",
              "4            4522     4629  2023-09-24 21:33:00+00:00   55.17      es  mobile   \n",
              "\n",
              "  channel  hour  dayofweek  coupon_applied  num_items  is_fraud  \n",
              "0     ads     6          5           False          5     False  \n",
              "1     web    21          3           False          3     False  \n",
              "2     app    19          5           False          3     False  \n",
              "3     web     4          1            True          2     False  \n",
              "4     app    21          6           False          1     False  "
            ]
          },
          "execution_count": 5,
          "metadata": {},
          "output_type": "execute_result"
        }
      ],
      "source": [
        "## Here we will load the libraries and the cleaned dataset.\n",
        "\n",
        "import pandas as pd\n",
        "import numpy as np\n",
        "import matplotlib.pyplot as plt\n",
        "from pathlib import Path\n",
        "\n",
        "# Load the cleaned dataset\n",
        "data_path = Path(\"DataSet/Cleaned/cleaned_transactions.csv\")\n",
        "df = pd.read_csv(data_path)\n",
        "df.head()"
      ]
    },
    {
      "cell_type": "code",
      "execution_count": 6,
      "metadata": {},
      "outputs": [
        {
          "name": "stdout",
          "output_type": "stream",
          "text": [
            "📊 Dataset Overview:\n",
            "Shape: (10000, 12)\n",
            "Memory usage: 2.69 MB\n",
            "\n",
            "🔍 Data Types:\n",
            "transaction_id      int64\n",
            "user_id             int64\n",
            "timestamp          object\n",
            "amount            float64\n",
            "country            object\n",
            "device             object\n",
            "channel            object\n",
            "hour                int64\n",
            "dayofweek           int64\n",
            "coupon_applied       bool\n",
            "num_items           int64\n",
            "is_fraud             bool\n",
            "dtype: object\n",
            "\n",
            "📈 Basic Statistics:\n"
          ]
        },
        {
          "data": {
            "text/html": [
              "<div>\n",
              "<style scoped>\n",
              "    .dataframe tbody tr th:only-of-type {\n",
              "        vertical-align: middle;\n",
              "    }\n",
              "\n",
              "    .dataframe tbody tr th {\n",
              "        vertical-align: top;\n",
              "    }\n",
              "\n",
              "    .dataframe thead th {\n",
              "        text-align: right;\n",
              "    }\n",
              "</style>\n",
              "<table border=\"1\" class=\"dataframe\">\n",
              "  <thead>\n",
              "    <tr style=\"text-align: right;\">\n",
              "      <th></th>\n",
              "      <th>transaction_id</th>\n",
              "      <th>user_id</th>\n",
              "      <th>amount</th>\n",
              "      <th>hour</th>\n",
              "      <th>dayofweek</th>\n",
              "      <th>num_items</th>\n",
              "    </tr>\n",
              "  </thead>\n",
              "  <tbody>\n",
              "    <tr>\n",
              "      <th>count</th>\n",
              "      <td>10000.00000</td>\n",
              "      <td>10000.000000</td>\n",
              "      <td>10000.000000</td>\n",
              "      <td>10000.000000</td>\n",
              "      <td>10000.000000</td>\n",
              "      <td>10000.000000</td>\n",
              "    </tr>\n",
              "    <tr>\n",
              "      <th>mean</th>\n",
              "      <td>5000.50000</td>\n",
              "      <td>3010.561100</td>\n",
              "      <td>79.797354</td>\n",
              "      <td>11.584700</td>\n",
              "      <td>3.030000</td>\n",
              "      <td>3.192000</td>\n",
              "    </tr>\n",
              "    <tr>\n",
              "      <th>std</th>\n",
              "      <td>2886.89568</td>\n",
              "      <td>1152.371939</td>\n",
              "      <td>61.469300</td>\n",
              "      <td>6.937913</td>\n",
              "      <td>1.999025</td>\n",
              "      <td>1.488945</td>\n",
              "    </tr>\n",
              "    <tr>\n",
              "      <th>min</th>\n",
              "      <td>1.00000</td>\n",
              "      <td>1000.000000</td>\n",
              "      <td>2.010000</td>\n",
              "      <td>0.000000</td>\n",
              "      <td>0.000000</td>\n",
              "      <td>1.000000</td>\n",
              "    </tr>\n",
              "    <tr>\n",
              "      <th>25%</th>\n",
              "      <td>2500.75000</td>\n",
              "      <td>2001.750000</td>\n",
              "      <td>36.785000</td>\n",
              "      <td>6.000000</td>\n",
              "      <td>1.000000</td>\n",
              "      <td>2.000000</td>\n",
              "    </tr>\n",
              "    <tr>\n",
              "      <th>50%</th>\n",
              "      <td>5000.50000</td>\n",
              "      <td>3004.000000</td>\n",
              "      <td>62.245000</td>\n",
              "      <td>12.000000</td>\n",
              "      <td>3.000000</td>\n",
              "      <td>3.000000</td>\n",
              "    </tr>\n",
              "    <tr>\n",
              "      <th>75%</th>\n",
              "      <td>7500.25000</td>\n",
              "      <td>4010.000000</td>\n",
              "      <td>105.000000</td>\n",
              "      <td>18.000000</td>\n",
              "      <td>5.000000</td>\n",
              "      <td>4.000000</td>\n",
              "    </tr>\n",
              "    <tr>\n",
              "      <th>max</th>\n",
              "      <td>10000.00000</td>\n",
              "      <td>4999.000000</td>\n",
              "      <td>530.700000</td>\n",
              "      <td>23.000000</td>\n",
              "      <td>6.000000</td>\n",
              "      <td>11.000000</td>\n",
              "    </tr>\n",
              "  </tbody>\n",
              "</table>\n",
              "</div>"
            ],
            "text/plain": [
              "       transaction_id       user_id        amount          hour     dayofweek  \\\n",
              "count     10000.00000  10000.000000  10000.000000  10000.000000  10000.000000   \n",
              "mean       5000.50000   3010.561100     79.797354     11.584700      3.030000   \n",
              "std        2886.89568   1152.371939     61.469300      6.937913      1.999025   \n",
              "min           1.00000   1000.000000      2.010000      0.000000      0.000000   \n",
              "25%        2500.75000   2001.750000     36.785000      6.000000      1.000000   \n",
              "50%        5000.50000   3004.000000     62.245000     12.000000      3.000000   \n",
              "75%        7500.25000   4010.000000    105.000000     18.000000      5.000000   \n",
              "max       10000.00000   4999.000000    530.700000     23.000000      6.000000   \n",
              "\n",
              "          num_items  \n",
              "count  10000.000000  \n",
              "mean       3.192000  \n",
              "std        1.488945  \n",
              "min        1.000000  \n",
              "25%        2.000000  \n",
              "50%        3.000000  \n",
              "75%        4.000000  \n",
              "max       11.000000  "
            ]
          },
          "execution_count": 6,
          "metadata": {},
          "output_type": "execute_result"
        }
      ],
      "source": [
        "# Basic dataset information\n",
        "print(\"📊 Dataset Overview:\")\n",
        "print(f\"Shape: {df.shape}\")\n",
        "print(f\"Memory usage: {df.memory_usage(deep=True).sum() / 1024**2:.2f} MB\")\n",
        "print(\"\\n🔍 Data Types:\")\n",
        "print(df.dtypes)\n",
        "print(\"\\n📈 Basic Statistics:\")\n",
        "df.describe()"
      ]
    },
    {
      "cell_type": "code",
      "execution_count": 22,
      "metadata": {},
      "outputs": [
        {
          "name": "stdout",
          "output_type": "stream",
          "text": [
            "Using amount-like column: amount\n"
          ]
        },
        {
          "data": {
            "text/plain": [
              "count    10000.000000\n",
              "mean        79.797354\n",
              "std         61.469300\n",
              "min          2.010000\n",
              "25%         36.785000\n",
              "50%         62.245000\n",
              "75%        105.000000\n",
              "max        530.700000\n",
              "Name: amount, dtype: float64"
            ]
          },
          "execution_count": 22,
          "metadata": {},
          "output_type": "execute_result"
        }
      ],
      "source": [
        "num_cols = df.select_dtypes(include=[np.number]).columns.tolist()\n",
        "AMOUNT = next((c for c in num_cols if any(k in c.lower() for k in [\"amount\",\"amt\",\"value\",\"price\",\"total\"])), None)\n",
        "if AMOUNT is None and num_cols:\n",
        "    AMOUNT = num_cols[0]\n",
        "\n",
        "print(\"Using amount-like column:\", AMOUNT)\n",
        "df[AMOUNT].describe()  # quick stats (mean/median/std)"
      ]
    },
    {
      "cell_type": "code",
      "execution_count": 7,
      "metadata": {},
      "outputs": [
        {
          "name": "stdout",
          "output_type": "stream",
          "text": [
            "🔍 Missing Values:\n",
            "transaction_id    0\n",
            "user_id           0\n",
            "timestamp         0\n",
            "amount            0\n",
            "country           0\n",
            "device            0\n",
            "channel           0\n",
            "hour              0\n",
            "dayofweek         0\n",
            "coupon_applied    0\n",
            "num_items         0\n",
            "is_fraud          0\n",
            "dtype: int64\n",
            "\n",
            "📊 Fraud Distribution:\n",
            "Legitimate transactions: 9357 (93.6%)\n",
            "Fraudulent transactions: 643 (6.4%)\n"
          ]
        }
      ],
      "source": [
        "# Check for missing values and data quality\n",
        "print(\"🔍 Missing Values:\")\n",
        "print(df.isnull().sum())\n",
        "print(\"\\n📊 Fraud Distribution:\")\n",
        "fraud_counts = df['is_fraud'].value_counts()\n",
        "fraud_pct = df['is_fraud'].value_counts(normalize=True) * 100\n",
        "print(f\"Legitimate transactions: {fraud_counts[False]} ({fraud_pct[False]:.1f}%)\")\n",
        "print(f\"Fraudulent transactions: {fraud_counts[True]} ({fraud_pct[True]:.1f}%)\")"
      ]
    },
    {
      "cell_type": "code",
      "execution_count": 12,
      "metadata": {},
      "outputs": [
        {
          "name": "stdout",
          "output_type": "stream",
          "text": [
            "TARGET chosen: is_fraud | dtype: bool\n",
            "Value counts (top 5):\n",
            "is_fraud\n",
            "False    9357\n",
            "True      643\n",
            "Name: count, dtype: int64\n"
          ]
        }
      ],
      "source": [
        "TARGET = \"isFraud\"\n",
        "candidates = [\"isFraud\",\"is_fraud\",\"fraud\",\"Fraud\",\"label\",\"Class\",\"target\",\"Target\"]\n",
        "\n",
        "if TARGET not in df.columns:\n",
        "    for c in candidates:\n",
        "        if c in df.columns:\n",
        "            TARGET = c\n",
        "            break\n",
        "\n",
        "if TARGET not in df.columns:\n",
        "    raise ValueError(f\"Target column not found. Last tried TARGET='{TARGET}'.\\n\"\n",
        "                     f\"Available columns include: {list(df.columns)[:15]}...\")\n",
        "\n",
        "print(f\"TARGET chosen: {TARGET} | dtype: {df[TARGET].dtype}\")\n",
        "print(\"Value counts (top 5):\")\n",
        "print(df[TARGET].value_counts(dropna=False).head())"
      ]
    },
    {
      "cell_type": "code",
      "execution_count": null,
      "metadata": {},
      "outputs": [
        {
          "name": "stdout",
          "output_type": "stream",
          "text": [
            "Percentages:\n",
            " is_fraud\n",
            "False    93.57\n",
            "True      6.43\n",
            "Name: count, dtype: float64\n"
          ]
        }
      ],
      "source": [
        "# Calculating the percentage of each class in the target variable\n",
        "\n",
        "counts = df[TARGET].value_counts().sort_index()\n",
        "pct = (counts / len(df) * 100).round(2)\n",
        "\n",
        "print(\"Percentages:\\n\", pct)"
      ]
    },
    {
      "cell_type": "code",
      "execution_count": 15,
      "metadata": {},
      "outputs": [
        {
          "data": {
            "image/png": "[encoded data removed]",
            "text/plain": [
              "<Figure size 600x400 with 1 Axes>"
            ]
          },
          "metadata": {},
          "output_type": "display_data"
        }
      ],
      "source": [
        "# We will now simply visualise this distribtion with a bar chart.\n",
        "\n",
        "plt.figure(figsize=(6,4))\n",
        "plt.bar([str(c) for c in counts.index], counts.values)\n",
        "plt.title(f\"Class Balance: {TARGET}\")\n",
        "plt.xlabel(TARGET); plt.ylabel(\"Count\")\n",
        "plt.tight_layout()\n",
        "plt.show()"
      ]
    },
    {
      "cell_type": "code",
      "execution_count": 27,
      "metadata": {},
      "outputs": [
        {
          "name": "stdout",
          "output_type": "stream",
          "text": [
            "Rows total: 10000 | Fraud rows: 643\n",
            "TARGET values: [False  True]\n"
          ]
        }
      ],
      "source": [
        "# For this section i will use AI to help me start the grouping process.\n",
        "\n",
        "# --- REQUIRED CONFIG: edit these 3 to match YOUR data ---\n",
        "TARGET      = \"is_fraud\"      # your fraud label column name\n",
        "FRAUD_VALUE = 1               # the value that means \"fraud\" (e.g., 1, True, or \"Fraud\")\n",
        "AMOUNT      = \"amount\"        # transaction value column (e.g., amount/price/value/total)\n",
        "DATE_COL    = \"timestamp\"     # set to your datetime col name, or None if you don't have one\n",
        "\n",
        "# --- Imports and basic checks ---\n",
        "import pandas as pd\n",
        "import numpy as np\n",
        "import matplotlib.pyplot as plt\n",
        "from IPython.display import display\n",
        "\n",
        "# df should already exist if you loaded it earlier; if not, load here:\n",
        "# df = pd.read_csv(\"data/processed/cleaned_fraud_data.csv\")\n",
        "\n",
        "# helpful asserts so you get clear errors if names don't match\n",
        "assert TARGET in df.columns, f\"TARGET '{TARGET}' not found in columns: {df.columns.tolist()}\"\n",
        "assert AMOUNT in df.columns, f\"AMOUNT '{AMOUNT}' not found in columns: {df.columns.tolist()}\"\n",
        "\n",
        "if DATE_COL and DATE_COL in df.columns:\n",
        "    df[DATE_COL] = pd.to_datetime(df[DATE_COL], errors=\"coerce\")\n",
        "\n",
        "# handy mask we reuse\n",
        "is_fraud = df[TARGET] == FRAUD_VALUE\n",
        "\n",
        "print(\"Rows total:\", len(df), \"| Fraud rows:\", int(is_fraud.sum()))\n",
        "print(\"TARGET values:\", df[TARGET].dropna().unique()[:10])\n"
      ]
    },
    {
      "cell_type": "code",
      "execution_count": 34,
      "metadata": {},
      "outputs": [
        {
          "name": "stdout",
          "output_type": "stream",
          "text": [
            "🔍 TRANSACTION CHANNELS - Fraud Analysis\n",
            "==================================================\n",
            "\n",
            "Fraud rates by channel:\n"
          ]
        },
        {
          "data": {
            "text/html": [
              "<div>\n",
              "<style scoped>\n",
              "    .dataframe tbody tr th:only-of-type {\n",
              "        vertical-align: middle;\n",
              "    }\n",
              "\n",
              "    .dataframe tbody tr th {\n",
              "        vertical-align: top;\n",
              "    }\n",
              "\n",
              "    .dataframe thead th {\n",
              "        text-align: right;\n",
              "    }\n",
              "</style>\n",
              "<table border=\"1\" class=\"dataframe\">\n",
              "  <thead>\n",
              "    <tr style=\"text-align: right;\">\n",
              "      <th></th>\n",
              "      <th>count</th>\n",
              "      <th>fraud_count</th>\n",
              "      <th>fraud_rate_%</th>\n",
              "    </tr>\n",
              "    <tr>\n",
              "      <th>channel</th>\n",
              "      <th></th>\n",
              "      <th></th>\n",
              "      <th></th>\n",
              "    </tr>\n",
              "  </thead>\n",
              "  <tbody>\n",
              "    <tr>\n",
              "      <th>email</th>\n",
              "      <td>520</td>\n",
              "      <td>39</td>\n",
              "      <td>7.50</td>\n",
              "    </tr>\n",
              "    <tr>\n",
              "      <th>ads</th>\n",
              "      <td>1007</td>\n",
              "      <td>75</td>\n",
              "      <td>7.45</td>\n",
              "    </tr>\n",
              "    <tr>\n",
              "      <th>social</th>\n",
              "      <td>506</td>\n",
              "      <td>32</td>\n",
              "      <td>6.32</td>\n",
              "    </tr>\n",
              "    <tr>\n",
              "      <th>web</th>\n",
              "      <td>4519</td>\n",
              "      <td>285</td>\n",
              "      <td>6.31</td>\n",
              "    </tr>\n",
              "    <tr>\n",
              "      <th>app</th>\n",
              "      <td>3448</td>\n",
              "      <td>212</td>\n",
              "      <td>6.15</td>\n",
              "    </tr>\n",
              "  </tbody>\n",
              "</table>\n",
              "</div>"
            ],
            "text/plain": [
              "         count  fraud_count  fraud_rate_%\n",
              "channel                                  \n",
              "email      520           39          7.50\n",
              "ads       1007           75          7.45\n",
              "social     506           32          6.32\n",
              "web       4519          285          6.31\n",
              "app       3448          212          6.15"
            ]
          },
          "metadata": {},
          "output_type": "display_data"
        },
        {
          "name": "stdout",
          "output_type": "stream",
          "text": [
            "\n",
            "🚨 Highest risk channel: 'email' with 7.5% fraud rate\n",
            "\n",
            "📱 DEVICE TYPES - Fraud Analysis\n",
            "==================================================\n",
            "\n",
            "Fraud rates by device:\n"
          ]
        },
        {
          "data": {
            "text/html": [
              "<div>\n",
              "<style scoped>\n",
              "    .dataframe tbody tr th:only-of-type {\n",
              "        vertical-align: middle;\n",
              "    }\n",
              "\n",
              "    .dataframe tbody tr th {\n",
              "        vertical-align: top;\n",
              "    }\n",
              "\n",
              "    .dataframe thead th {\n",
              "        text-align: right;\n",
              "    }\n",
              "</style>\n",
              "<table border=\"1\" class=\"dataframe\">\n",
              "  <thead>\n",
              "    <tr style=\"text-align: right;\">\n",
              "      <th></th>\n",
              "      <th>count</th>\n",
              "      <th>fraud_count</th>\n",
              "      <th>fraud_rate_%</th>\n",
              "    </tr>\n",
              "    <tr>\n",
              "      <th>device</th>\n",
              "      <th></th>\n",
              "      <th></th>\n",
              "      <th></th>\n",
              "    </tr>\n",
              "  </thead>\n",
              "  <tbody>\n",
              "    <tr>\n",
              "      <th>mobile</th>\n",
              "      <td>5961</td>\n",
              "      <td>411</td>\n",
              "      <td>6.89</td>\n",
              "    </tr>\n",
              "    <tr>\n",
              "      <th>desktop</th>\n",
              "      <td>3024</td>\n",
              "      <td>181</td>\n",
              "      <td>5.99</td>\n",
              "    </tr>\n",
              "    <tr>\n",
              "      <th>tablet</th>\n",
              "      <td>1015</td>\n",
              "      <td>51</td>\n",
              "      <td>5.02</td>\n",
              "    </tr>\n",
              "  </tbody>\n",
              "</table>\n",
              "</div>"
            ],
            "text/plain": [
              "         count  fraud_count  fraud_rate_%\n",
              "device                                   \n",
              "mobile    5961          411          6.89\n",
              "desktop   3024          181          5.99\n",
              "tablet    1015           51          5.02"
            ]
          },
          "metadata": {},
          "output_type": "display_data"
        },
        {
          "name": "stdout",
          "output_type": "stream",
          "text": [
            "\n",
            "🚨 Highest risk device: 'mobile' with 6.89% fraud rate\n",
            "\n",
            "🌍 COUNTRIES - Fraud Analysis (Top 10)\n",
            "==================================================\n",
            "\n",
            "Top 10 countries by fraud rate:\n"
          ]
        },
        {
          "data": {
            "text/html": [
              "<div>\n",
              "<style scoped>\n",
              "    .dataframe tbody tr th:only-of-type {\n",
              "        vertical-align: middle;\n",
              "    }\n",
              "\n",
              "    .dataframe tbody tr th {\n",
              "        vertical-align: top;\n",
              "    }\n",
              "\n",
              "    .dataframe thead th {\n",
              "        text-align: right;\n",
              "    }\n",
              "</style>\n",
              "<table border=\"1\" class=\"dataframe\">\n",
              "  <thead>\n",
              "    <tr style=\"text-align: right;\">\n",
              "      <th></th>\n",
              "      <th>count</th>\n",
              "      <th>fraud_count</th>\n",
              "      <th>fraud_rate_%</th>\n",
              "    </tr>\n",
              "    <tr>\n",
              "      <th>country</th>\n",
              "      <th></th>\n",
              "      <th></th>\n",
              "      <th></th>\n",
              "    </tr>\n",
              "  </thead>\n",
              "  <tbody>\n",
              "    <tr>\n",
              "      <th>in</th>\n",
              "      <td>1501</td>\n",
              "      <td>139</td>\n",
              "      <td>9.26</td>\n",
              "    </tr>\n",
              "    <tr>\n",
              "      <th>br</th>\n",
              "      <td>644</td>\n",
              "      <td>48</td>\n",
              "      <td>7.45</td>\n",
              "    </tr>\n",
              "    <tr>\n",
              "      <th>jp</th>\n",
              "      <td>715</td>\n",
              "      <td>49</td>\n",
              "      <td>6.85</td>\n",
              "    </tr>\n",
              "    <tr>\n",
              "      <th>de</th>\n",
              "      <td>840</td>\n",
              "      <td>57</td>\n",
              "      <td>6.79</td>\n",
              "    </tr>\n",
              "    <tr>\n",
              "      <th>au</th>\n",
              "      <td>738</td>\n",
              "      <td>47</td>\n",
              "      <td>6.37</td>\n",
              "    </tr>\n",
              "    <tr>\n",
              "      <th>uk</th>\n",
              "      <td>976</td>\n",
              "      <td>62</td>\n",
              "      <td>6.35</td>\n",
              "    </tr>\n",
              "    <tr>\n",
              "      <th>us</th>\n",
              "      <td>1951</td>\n",
              "      <td>110</td>\n",
              "      <td>5.64</td>\n",
              "    </tr>\n",
              "    <tr>\n",
              "      <th>es</th>\n",
              "      <td>798</td>\n",
              "      <td>43</td>\n",
              "      <td>5.39</td>\n",
              "    </tr>\n",
              "    <tr>\n",
              "      <th>fr</th>\n",
              "      <td>983</td>\n",
              "      <td>51</td>\n",
              "      <td>5.19</td>\n",
              "    </tr>\n",
              "    <tr>\n",
              "      <th>ca</th>\n",
              "      <td>854</td>\n",
              "      <td>37</td>\n",
              "      <td>4.33</td>\n",
              "    </tr>\n",
              "  </tbody>\n",
              "</table>\n",
              "</div>"
            ],
            "text/plain": [
              "         count  fraud_count  fraud_rate_%\n",
              "country                                  \n",
              "in        1501          139          9.26\n",
              "br         644           48          7.45\n",
              "jp         715           49          6.85\n",
              "de         840           57          6.79\n",
              "au         738           47          6.37\n",
              "uk         976           62          6.35\n",
              "us        1951          110          5.64\n",
              "es         798           43          5.39\n",
              "fr         983           51          5.19\n",
              "ca         854           37          4.33"
            ]
          },
          "metadata": {},
          "output_type": "display_data"
        }
      ],
      "source": [
        "# Which channels/methods have the highest incidence of fraud?\n",
        "\n",
        "# For our e-commerce dataset, we'll analyze different transaction aspects:\n",
        "# 1. Channel (web, app, ads, social) - represents how customers accessed the platform\n",
        "# 2. Device (mobile, desktop, tablet) - device used for transaction\n",
        "# 3. Country - geographic location\n",
        "\n",
        "def fraud_rate_table(col: str) -> pd.DataFrame:\n",
        "    \"\"\"Calculate fraud rate by category\"\"\"\n",
        "    t = (df.groupby(col, dropna=False)[TARGET]\n",
        "           .agg(count=\"count\", fraud_count=\"sum\"))\n",
        "    t[\"fraud_rate_%\"] = (t[\"fraud_count\"] / t[\"count\"] * 100).round(2)\n",
        "    return t.sort_values(\"fraud_rate_%\", ascending=False)\n",
        "\n",
        "# Analyze Transaction Channels\n",
        "print(\"🔍 TRANSACTION CHANNELS - Fraud Analysis\")\n",
        "print(\"=\" * 50)\n",
        "if 'channel' in df.columns:\n",
        "    channel_analysis = fraud_rate_table('channel')\n",
        "    print(f\"\\nFraud rates by channel:\")\n",
        "    display(channel_analysis)\n",
        "    \n",
        "    # Find highest fraud channel\n",
        "    highest_fraud_channel = channel_analysis.index[0]\n",
        "    highest_rate = channel_analysis.iloc[0]['fraud_rate_%']\n",
        "    print(f\"\\n🚨 Highest risk channel: '{highest_fraud_channel}' with {highest_rate}% fraud rate\")\n",
        "\n",
        "# Analyze Devices  \n",
        "print(\"\\n📱 DEVICE TYPES - Fraud Analysis\")\n",
        "print(\"=\" * 50)\n",
        "if 'device' in df.columns:\n",
        "    device_analysis = fraud_rate_table('device')\n",
        "    print(f\"\\nFraud rates by device:\")\n",
        "    display(device_analysis)\n",
        "    \n",
        "    # Find highest fraud device\n",
        "    highest_fraud_device = device_analysis.index[0]\n",
        "    highest_device_rate = device_analysis.iloc[0]['fraud_rate_%']\n",
        "    print(f\"\\n🚨 Highest risk device: '{highest_fraud_device}' with {highest_device_rate}% fraud rate\")\n",
        "\n",
        "# Analyze Countries (top 10)\n",
        "print(\"\\n🌍 COUNTRIES - Fraud Analysis (Top 10)\")\n",
        "print(\"=\" * 50)\n",
        "if 'country' in df.columns:\n",
        "    country_analysis = fraud_rate_table('country').head(10)\n",
        "    print(f\"\\nTop 10 countries by fraud rate:\")\n",
        "    display(country_analysis)"
      ]
    },
    {
      "cell_type": "code",
      "execution_count": null,
      "metadata": {},
      "outputs": [],
      "source": [
        "## As we can see from the table above Email and Mobile channels have the highest fraud rates, with 12.5% and 10.2% respectively.\n",
        "# India and Brazil are the top 2 countries with highest fraud rates among the top 10 listed."
      ]
    },
    {
      "cell_type": "markdown",
      "metadata": {
        "id": "ZY3l0-AxO93d"
      },
      "source": [
        "---"
      ]
    },
    {
      "cell_type": "markdown",
      "metadata": {},
      "source": [
        "---"
      ]
    },
    {
      "cell_type": "markdown",
      "metadata": {},
      "source": [
        "NOTE"
      ]
    },
    {
      "cell_type": "markdown",
      "metadata": {},
      "source": [
        "* You may add as many sections as you want, as long as it supports your project workflow.\n",
        "* All notebook's cells should be run top-down (you can't create a dynamic wherein a given point you need to go back to a previous cell to execute some task, like go back to a previous cell and refresh a variable content)"
      ]
    },
    {
      "cell_type": "markdown",
      "metadata": {},
      "source": [
        "---"
      ]
    }
  ],
  "metadata": {
    "accelerator": "GPU",
    "colab": {
      "name": "Data Practitioner Jupyter Notebook.ipynb",
      "provenance": [],
      "toc_visible": true
    },
    "kernelspec": {
      "display_name": ".venv",
      "language": "python",
      "name": "python3"
    },
    "language_info": {
      "codemirror_mode": {
        "name": "ipython",
        "version": 3
      },
      "file_extension": ".py",
      "mimetype": "text/x-python",
      "name": "python",
      "nbconvert_exporter": "python",
      "pygments_lexer": "ipython3",
      "version": "3.12.8"
    },
    "orig_nbformat": 2
  },
  "nbformat": 4,
  "nbformat_minor": 2
}
