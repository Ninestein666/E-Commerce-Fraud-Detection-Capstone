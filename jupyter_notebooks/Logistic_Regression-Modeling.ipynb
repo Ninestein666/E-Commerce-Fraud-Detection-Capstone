{
 "cells": [
  {
   "cell_type": "markdown",
   "id": "da425ba4",
   "metadata": {},
   "source": [
    "## E-Commerce Fraud Detection Logistic Regression Model "
   ]
  },
  {
   "cell_type": "markdown",
   "id": "4d19bb05",
   "metadata": {},
   "source": [
    "## Objectives\n",
    "\n",
    "* Build a logistic regression model to predict fraudulent transactions.\n",
    "* Turn the patterns we found in EDA (e.g., time, amount, device × channel, country) into a basic risk score using Logistic Regression, so we can automatically flag higher-risk transactions for extra checks.\n",
    "\n",
    "## Requirements\n",
    "* Python 3.x\n",
    "* Jupyter Notebook\n",
    "* Required libraries: pandas, numpy and scikit-learn.\n",
    "* pip install scikit-learn (bash terminal)\n",
    "\n",
    "## What this notebook does\n",
    "- Loads the cleaned dataset.\n",
    "- Prepares features (numeric + one-hot encoded categoricals) in a reproducible pipeline.\n",
    "- Trains a Logistic Regression model with class imbalance handling.\n",
    "- Evaluates performance with ROC AUC and PR AUC, plus precision/recall/F1.\n",
    "- Finds a practical decision threshold (F1-oriented) and shows the confusion matrix.\n",
    "- Lists top positive/negative coefficients to keep the model **explainable.\n",
    "\n"
   ]
  }
 ],
 "metadata": {
  "kernelspec": {
   "display_name": ".venv",
   "language": "python",
   "name": "python3"
  },
  "language_info": {
   "name": "python",
   "version": "3.12.8"
  }
 },
 "nbformat": 4,
 "nbformat_minor": 5
}
