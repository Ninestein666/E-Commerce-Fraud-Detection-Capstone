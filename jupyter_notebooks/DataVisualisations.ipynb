{
  "cells": [
    {
      "cell_type": "markdown",
      "metadata": {
        "id": "0aStgWSO0E0E"
      },
      "source": [
        "## E-Commerce Fraud Detection Data Visualisation"
      ]
    },
    {
      "cell_type": "markdown",
      "metadata": {
        "id": "1eLEkw5O0ECa"
      },
      "source": [
        "## Objectives\n",
        "\n",
        "* Create clear, exam-friendly visualisations that answer the business questions (fraud rate, when/where fraud occurs, by how much, and risk).\n",
        "\n",
        "* Save PNGs/CSVs to reports/figures/ and reports/tables/ for README (and later Power BI).\n",
        "* Keep captions/notes short & plain-English\n",
        "\n",
        "## Inputs\n",
        "\n",
        "* data/processed/cleaned_transactions.csv\n",
        "\n",
        "## Outputs\n",
        "\n",
        "* Figures in reports/figures/…\n",
        "* Summary tables in reports/tables/…\n",
        "\n",
        "\n",
        "\n"
      ]
    },
    {
      "cell_type": "markdown",
      "metadata": {
        "id": "9uWZXH9LwoQg"
      },
      "source": [
        "---"
      ]
    },
    {
      "cell_type": "markdown",
      "metadata": {
        "id": "cqP-UeN-z3i2"
      },
      "source": [
        "# Change working directory"
      ]
    },
    {
      "cell_type": "markdown",
      "metadata": {},
      "source": [
        "* We are assuming you will store the notebooks in a subfolder, therefore when running the notebook in the editor, you will need to change the working directory"
      ]
    },
    {
      "cell_type": "markdown",
      "metadata": {
        "id": "aOGIGS-uz3i2"
      },
      "source": [
        "We need to change the working directory from its current folder to its parent folder\n",
        "* We access the current directory with os.getcwd()"
      ]
    },
    {
      "cell_type": "code",
      "execution_count": 24,
      "metadata": {
        "id": "wZfF_j-Bz3i4",
        "outputId": "66943449-1436-4c3d-85c7-b85f9f78349b"
      },
      "outputs": [
        {
          "data": {
            "text/plain": [
              "'c:\\\\Users\\\\Nine\\\\OneDrive\\\\Documents\\\\VS Code Projects\\\\E-Commerce-Fraud-Detection-Capstone\\\\E-Commerce-Fraud-Detection-Capstone\\\\jupyter_notebooks'"
            ]
          },
          "execution_count": 24,
          "metadata": {},
          "output_type": "execute_result"
        }
      ],
      "source": [
        "import os\n",
        "current_dir = os.getcwd()\n",
        "current_dir"
      ]
    },
    {
      "cell_type": "markdown",
      "metadata": {
        "id": "9MWW8E7lz3i7"
      },
      "source": [
        "We want to make the parent of the current directory the new current directory\n",
        "* os.path.dirname() gets the parent directory\n",
        "* os.chir() defines the new current directory"
      ]
    },
    {
      "cell_type": "code",
      "execution_count": 25,
      "metadata": {
        "id": "TwHsQRWjz3i9",
        "outputId": "86849db3-cd2f-4cc5-ebb8-2d0caafa1a2c"
      },
      "outputs": [
        {
          "name": "stdout",
          "output_type": "stream",
          "text": [
            "You set a new current directory\n"
          ]
        }
      ],
      "source": [
        "os.chdir(os.path.dirname(current_dir))\n",
        "print(\"You set a new current directory\")"
      ]
    },
    {
      "cell_type": "markdown",
      "metadata": {
        "id": "M_xPk_Ijz3i-"
      },
      "source": [
        "Confirm the new current directory"
      ]
    },
    {
      "cell_type": "code",
      "execution_count": 26,
      "metadata": {
        "id": "vz3S-_kjz3jA",
        "outputId": "00b79ae4-75d0-4a96-d193-ac9ef9847ea2"
      },
      "outputs": [
        {
          "data": {
            "text/plain": [
              "'c:\\\\Users\\\\Nine\\\\OneDrive\\\\Documents\\\\VS Code Projects\\\\E-Commerce-Fraud-Detection-Capstone\\\\E-Commerce-Fraud-Detection-Capstone'"
            ]
          },
          "execution_count": 26,
          "metadata": {},
          "output_type": "execute_result"
        }
      ],
      "source": [
        "current_dir = os.getcwd()\n",
        "current_dir"
      ]
    },
    {
      "cell_type": "markdown",
      "metadata": {
        "id": "-mavJ8DibrcQ"
      },
      "source": [
        "# Section 1"
      ]
    },
    {
      "cell_type": "markdown",
      "metadata": {},
      "source": [
        "Set up and load libraries along with dataset."
      ]
    },
    {
      "cell_type": "code",
      "execution_count": 27,
      "metadata": {},
      "outputs": [],
      "source": [
        "# importing libraries\n",
        "\n",
        "import pandas as pd\n",
        "import numpy as np\n",
        "import matplotlib.pyplot as plt\n",
        "import seaborn as sns\n",
        "import plotly.express as px\n",
        "from pathlib import Path"
      ]
    },
    {
      "cell_type": "code",
      "execution_count": 28,
      "metadata": {},
      "outputs": [
        {
          "name": "stdout",
          "output_type": "stream",
          "text": [
            "📂 Loading data from: DataSet\\Cleaned\\cleaned_transactions.csv\n",
            "✅ Data loaded successfully!\n",
            "📊 Dataset Info:\n",
            "   Shape: 10,000 rows × 12 columns\n",
            "   Memory usage: 2.7 MB\n",
            "\n",
            "📋 Column Names:\n",
            "    1. transaction_id (int64)\n",
            "    2. user_id (int64)\n",
            "    3. timestamp (object)\n",
            "    4. amount (float64)\n",
            "    5. country (object)\n",
            "    6. device (object)\n",
            "    7. channel (object)\n",
            "    8. hour (int64)\n",
            "    9. dayofweek (int64)\n",
            "   10. coupon_applied (bool)\n",
            "   11. num_items (int64)\n",
            "   12. is_fraud (bool)\n",
            "\n",
            "📈 First 5 rows:\n"
          ]
        },
        {
          "data": {
            "text/html": [
              "<div>\n",
              "<style scoped>\n",
              "    .dataframe tbody tr th:only-of-type {\n",
              "        vertical-align: middle;\n",
              "    }\n",
              "\n",
              "    .dataframe tbody tr th {\n",
              "        vertical-align: top;\n",
              "    }\n",
              "\n",
              "    .dataframe thead th {\n",
              "        text-align: right;\n",
              "    }\n",
              "</style>\n",
              "<table border=\"1\" class=\"dataframe\">\n",
              "  <thead>\n",
              "    <tr style=\"text-align: right;\">\n",
              "      <th></th>\n",
              "      <th>transaction_id</th>\n",
              "      <th>user_id</th>\n",
              "      <th>timestamp</th>\n",
              "      <th>amount</th>\n",
              "      <th>country</th>\n",
              "      <th>device</th>\n",
              "      <th>channel</th>\n",
              "      <th>hour</th>\n",
              "      <th>dayofweek</th>\n",
              "      <th>coupon_applied</th>\n",
              "      <th>num_items</th>\n",
              "      <th>is_fraud</th>\n",
              "    </tr>\n",
              "  </thead>\n",
              "  <tbody>\n",
              "    <tr>\n",
              "      <th>0</th>\n",
              "      <td>6253</td>\n",
              "      <td>3594</td>\n",
              "      <td>2023-01-28 06:04:00+00:00</td>\n",
              "      <td>125.79</td>\n",
              "      <td>us</td>\n",
              "      <td>mobile</td>\n",
              "      <td>ads</td>\n",
              "      <td>6</td>\n",
              "      <td>5</td>\n",
              "      <td>False</td>\n",
              "      <td>5</td>\n",
              "      <td>False</td>\n",
              "    </tr>\n",
              "    <tr>\n",
              "      <th>1</th>\n",
              "      <td>4685</td>\n",
              "      <td>2502</td>\n",
              "      <td>2023-04-27 21:32:00+00:00</td>\n",
              "      <td>153.40</td>\n",
              "      <td>de</td>\n",
              "      <td>mobile</td>\n",
              "      <td>web</td>\n",
              "      <td>21</td>\n",
              "      <td>3</td>\n",
              "      <td>False</td>\n",
              "      <td>3</td>\n",
              "      <td>False</td>\n",
              "    </tr>\n",
              "    <tr>\n",
              "      <th>2</th>\n",
              "      <td>1732</td>\n",
              "      <td>2287</td>\n",
              "      <td>2023-08-19 19:03:00+00:00</td>\n",
              "      <td>7.64</td>\n",
              "      <td>in</td>\n",
              "      <td>tablet</td>\n",
              "      <td>app</td>\n",
              "      <td>19</td>\n",
              "      <td>5</td>\n",
              "      <td>False</td>\n",
              "      <td>3</td>\n",
              "      <td>False</td>\n",
              "    </tr>\n",
              "    <tr>\n",
              "      <th>3</th>\n",
              "      <td>4743</td>\n",
              "      <td>3043</td>\n",
              "      <td>2023-03-14 04:56:00+00:00</td>\n",
              "      <td>36.36</td>\n",
              "      <td>us</td>\n",
              "      <td>mobile</td>\n",
              "      <td>web</td>\n",
              "      <td>4</td>\n",
              "      <td>1</td>\n",
              "      <td>True</td>\n",
              "      <td>2</td>\n",
              "      <td>False</td>\n",
              "    </tr>\n",
              "    <tr>\n",
              "      <th>4</th>\n",
              "      <td>4522</td>\n",
              "      <td>4629</td>\n",
              "      <td>2023-09-24 21:33:00+00:00</td>\n",
              "      <td>55.17</td>\n",
              "      <td>es</td>\n",
              "      <td>mobile</td>\n",
              "      <td>app</td>\n",
              "      <td>21</td>\n",
              "      <td>6</td>\n",
              "      <td>False</td>\n",
              "      <td>1</td>\n",
              "      <td>False</td>\n",
              "    </tr>\n",
              "  </tbody>\n",
              "</table>\n",
              "</div>"
            ],
            "text/plain": [
              "   transaction_id  user_id                  timestamp  amount country  device  \\\n",
              "0            6253     3594  2023-01-28 06:04:00+00:00  125.79      us  mobile   \n",
              "1            4685     2502  2023-04-27 21:32:00+00:00  153.40      de  mobile   \n",
              "2            1732     2287  2023-08-19 19:03:00+00:00    7.64      in  tablet   \n",
              "3            4743     3043  2023-03-14 04:56:00+00:00   36.36      us  mobile   \n",
              "4            4522     4629  2023-09-24 21:33:00+00:00   55.17      es  mobile   \n",
              "\n",
              "  channel  hour  dayofweek  coupon_applied  num_items  is_fraud  \n",
              "0     ads     6          5           False          5     False  \n",
              "1     web    21          3           False          3     False  \n",
              "2     app    19          5           False          3     False  \n",
              "3     web     4          1            True          2     False  \n",
              "4     app    21          6           False          1     False  "
            ]
          },
          "metadata": {},
          "output_type": "display_data"
        },
        {
          "name": "stdout",
          "output_type": "stream",
          "text": [
            "\n",
            "📊 Basic Statistics:\n",
            "   Fraud Distribution:\n",
            "     Legitimate: 9,357 (93.6%)\n",
            "     Fraudulent: 643 (6.4%)\n",
            "\n",
            "✅ Dataset ready for visualizations!\n"
          ]
        }
      ],
      "source": [
        "# Loading the cleaned transactions dataset\n",
        "\n",
        "csv_path = Path(\"DataSet/Cleaned/cleaned_transactions.csv\")\n",
        "\n",
        "# Check if file exists\n",
        "if not csv_path.exists():\n",
        "    print(f\"❌ File not found: {csv_path.resolve()}\")\n",
        "    print(\"Available files in DataSet/Cleaned/:\")\n",
        "    cleaned_dir = Path(\"DataSet/Cleaned\")\n",
        "    if cleaned_dir.exists():\n",
        "        for file in cleaned_dir.glob(\"*.csv\"):\n",
        "            print(f\"  - {file.name}\")\n",
        "    else:\n",
        "        print(\"  Directory doesn't exist\")\n",
        "else:\n",
        "    # Load the data\n",
        "    print(f\"📂 Loading data from: {csv_path}\")\n",
        "    df = pd.read_csv(csv_path, low_memory=False)\n",
        "    \n",
        "    print(f\"✅ Data loaded successfully!\")\n",
        "    print(f\"📊 Dataset Info:\")\n",
        "    print(f\"   Shape: {df.shape[0]:,} rows × {df.shape[1]} columns\")\n",
        "    print(f\"   Memory usage: {df.memory_usage(deep=True).sum() / 1024**2:.1f} MB\")\n",
        "    \n",
        "    print(f\"\\n📋 Column Names:\")\n",
        "    for i, col in enumerate(df.columns, 1):\n",
        "        print(f\"   {i:2d}. {col} ({df[col].dtype})\")\n",
        "    \n",
        "    print(f\"\\n📈 First 5 rows:\")\n",
        "    display(df.head())\n",
        "    \n",
        "    print(f\"\\n📊 Basic Statistics:\")\n",
        "    if 'is_fraud' in df.columns:\n",
        "        fraud_counts = df['is_fraud'].value_counts()\n",
        "        total = len(df)\n",
        "        print(f\"   Fraud Distribution:\")\n",
        "        for value, count in fraud_counts.items():\n",
        "            label = \"Fraudulent\" if value else \"Legitimate\"\n",
        "            pct = (count / total) * 100\n",
        "            print(f\"     {label}: {count:,} ({pct:.1f}%)\")\n",
        "    \n",
        "    print(f\"\\n✅ Dataset ready for visualizations!\")"
      ]
    },
    {
      "cell_type": "code",
      "execution_count": 32,
      "metadata": {},
      "outputs": [],
      "source": [
        "# Adding the folder to where images will be saved\n",
        "\n",
        "FIGDIR = Path(\"reports/figures\"); FIGDIR.mkdir(parents=True, exist_ok=True)"
      ]
    },
    {
      "cell_type": "markdown",
      "metadata": {
        "id": "ZY3l0-AxO93d"
      },
      "source": [
        "---"
      ]
    },
    {
      "cell_type": "markdown",
      "metadata": {
        "id": "uFQo3ycuO-v6"
      },
      "source": [
        "# Section 2"
      ]
    },
    {
      "cell_type": "markdown",
      "metadata": {},
      "source": [
        "Section 2 will show our visualisations representing key metrics and also complying with the capstone project objective."
      ]
    },
    {
      "cell_type": "code",
      "execution_count": null,
      "metadata": {},
      "outputs": [
        {
          "data": {
            "text/html": [
              "<div>\n",
              "<style scoped>\n",
              "    .dataframe tbody tr th:only-of-type {\n",
              "        vertical-align: middle;\n",
              "    }\n",
              "\n",
              "    .dataframe tbody tr th {\n",
              "        vertical-align: top;\n",
              "    }\n",
              "\n",
              "    .dataframe thead th {\n",
              "        text-align: right;\n",
              "    }\n",
              "</style>\n",
              "<table border=\"1\" class=\"dataframe\">\n",
              "  <thead>\n",
              "    <tr style=\"text-align: right;\">\n",
              "      <th></th>\n",
              "      <th>metric</th>\n",
              "      <th>value</th>\n",
              "    </tr>\n",
              "  </thead>\n",
              "  <tbody>\n",
              "    <tr>\n",
              "      <th>0</th>\n",
              "      <td>Total Transactions</td>\n",
              "      <td>10000.00</td>\n",
              "    </tr>\n",
              "    <tr>\n",
              "      <th>1</th>\n",
              "      <td>Fraud Count</td>\n",
              "      <td>643.00</td>\n",
              "    </tr>\n",
              "    <tr>\n",
              "      <th>2</th>\n",
              "      <td>Fraud Rate (%)</td>\n",
              "      <td>6.43</td>\n",
              "    </tr>\n",
              "    <tr>\n",
              "      <th>3</th>\n",
              "      <td>Total Amount</td>\n",
              "      <td>797973.54</td>\n",
              "    </tr>\n",
              "  </tbody>\n",
              "</table>\n",
              "</div>"
            ],
            "text/plain": [
              "               metric      value\n",
              "0  Total Transactions   10000.00\n",
              "1         Fraud Count     643.00\n",
              "2      Fraud Rate (%)       6.43\n",
              "3        Total Amount  797973.54"
            ]
          },
          "metadata": {},
          "output_type": "display_data"
        },
        {
          "data": {
            "image/png": "[encoded data removed]",
            "text/plain": [
              "<Figure size 500x400 with 1 Axes>"
            ]
          },
          "metadata": {},
          "output_type": "display_data"
        }
      ],
      "source": [
        "# Here we will create a key performance indicators (KPIs) and Class Balance Bar representing the rate of fraud in the dataset.\n",
        "\n",
        "total_tx   = len(df)\n",
        "fraud_tx   = int(df[\"is_fraud\"].sum())          \n",
        "fraud_rate = round(fraud_tx / total_tx * 100, 2)\n",
        "total_amt  = round(df[\"amount\"].sum(), 2)\n",
        "\n",
        "kpi = pd.DataFrame({\n",
        "    \"metric\": [\"Total Transactions\",\"Fraud Count\",\"Fraud Rate (%)\",\"Total Amount\"],\n",
        "    \"value\":  [total_tx, fraud_tx, fraud_rate, total_amt]\n",
        "})\n",
        "display(kpi)\n",
        "\n",
        "# class balance bar\n",
        "counts = df[\"is_fraud\"].value_counts()\n",
        "labels = [\"Non-fraud\",\"Fraud\"]\n",
        "plt.figure(figsize=(5,4))\n",
        "plt.bar(labels, [counts.get(False,0), counts.get(True,0)])\n",
        "plt.title(\"Class Balance\")\n",
        "plt.ylabel(\"Count\")\n",
        "plt.tight_layout()\n",
        "plt.savefig(FIGDIR/\"01_class_balance.png\", dpi=150)\n",
        "plt.show()\n"
      ]
    },
    {
      "cell_type": "markdown",
      "metadata": {},
      "source": [
        "The above visualisations show the class balance between fraud and non-fraud transactions. The KPI table indicates that only 6.43% of all transactions are flagged as fraudulent."
      ]
    },
    {
      "cell_type": "code",
      "execution_count": null,
      "metadata": {},
      "outputs": [
        {
          "data": {
            "image/png": "[encoded data removed]",
            "text/plain": [
              "<Figure size 600x400 with 1 Axes>"
            ]
          },
          "metadata": {},
          "output_type": "display_data"
        },
        {
          "data": {
            "text/html": [
              "<div>\n",
              "<style scoped>\n",
              "    .dataframe tbody tr th:only-of-type {\n",
              "        vertical-align: middle;\n",
              "    }\n",
              "\n",
              "    .dataframe tbody tr th {\n",
              "        vertical-align: top;\n",
              "    }\n",
              "\n",
              "    .dataframe thead th {\n",
              "        text-align: right;\n",
              "    }\n",
              "</style>\n",
              "<table border=\"1\" class=\"dataframe\">\n",
              "  <thead>\n",
              "    <tr style=\"text-align: right;\">\n",
              "      <th></th>\n",
              "      <th>Class</th>\n",
              "      <th>amount</th>\n",
              "    </tr>\n",
              "  </thead>\n",
              "  <tbody>\n",
              "    <tr>\n",
              "      <th>0</th>\n",
              "      <td>Fraud</td>\n",
              "      <td>163.23</td>\n",
              "    </tr>\n",
              "    <tr>\n",
              "      <th>1</th>\n",
              "      <td>Non-fraud</td>\n",
              "      <td>74.06</td>\n",
              "    </tr>\n",
              "  </tbody>\n",
              "</table>\n",
              "</div>"
            ],
            "text/plain": [
              "       Class  amount\n",
              "0      Fraud  163.23\n",
              "1  Non-fraud   74.06"
            ]
          },
          "metadata": {},
          "output_type": "display_data"
        },
        {
          "data": {
            "image/png": "[encoded data removed]",
            "text/plain": [
              "<Figure size 500x400 with 1 Axes>"
            ]
          },
          "metadata": {},
          "output_type": "display_data"
        }
      ],
      "source": [
        "# Amount: distribution + average by class\n",
        "\n",
        "# distribution of amount (all tx)\n",
        "plt.figure(figsize=(6,4))\n",
        "plt.hist(df[\"amount\"].dropna().values, bins=40)\n",
        "plt.title(\"Distribution of amount\")\n",
        "plt.xlabel(\"amount\"); plt.ylabel(\"Frequency\")\n",
        "plt.tight_layout()\n",
        "plt.savefig(FIGDIR/\"02_hist_amount.png\", dpi=150)\n",
        "plt.show()\n",
        "\n",
        "# average amount by class\n",
        "avg_tbl = (df.assign(Class=np.where(df[\"is_fraud\"], \"Fraud\",\"Non-fraud\"))\n",
        "             .groupby(\"Class\")[\"amount\"].mean().round(2).reset_index())\n",
        "display(avg_tbl)\n",
        "\n",
        "plt.figure(figsize=(5,4))\n",
        "plt.bar(avg_tbl[\"Class\"], avg_tbl[\"amount\"])\n",
        "plt.title(\"Average Amount: Fraud vs Non-fraud\")\n",
        "plt.ylabel(\"Average amount\")\n",
        "plt.tight_layout()\n",
        "plt.savefig(FIGDIR/\"03_avg_amount_by_class.png\", dpi=150)\n",
        "plt.show()\n"
      ]
    },
    {
      "cell_type": "markdown",
      "metadata": {},
      "source": [
        "The above visualisations show the distribution of frequency and amount, the chart shows that more frequent transactions tend to be of lower amounts, while less frequent transactions are associated with higher amounts. This insight can help in identifying patterns of fraudulent activity, as fraudsters may attempt to conduct high-value transactions less frequently to avoid detection."
      ]
    },
    {
      "cell_type": "code",
      "execution_count": null,
      "metadata": {},
      "outputs": [
        {
          "data": {
            "text/html": [
              "<div>\n",
              "<style scoped>\n",
              "    .dataframe tbody tr th:only-of-type {\n",
              "        vertical-align: middle;\n",
              "    }\n",
              "\n",
              "    .dataframe tbody tr th {\n",
              "        vertical-align: top;\n",
              "    }\n",
              "\n",
              "    .dataframe thead th {\n",
              "        text-align: right;\n",
              "    }\n",
              "</style>\n",
              "<table border=\"1\" class=\"dataframe\">\n",
              "  <thead>\n",
              "    <tr style=\"text-align: right;\">\n",
              "      <th></th>\n",
              "      <th>count</th>\n",
              "      <th>fraud_count</th>\n",
              "      <th>fraud_rate_%</th>\n",
              "    </tr>\n",
              "    <tr>\n",
              "      <th>DayName</th>\n",
              "      <th></th>\n",
              "      <th></th>\n",
              "      <th></th>\n",
              "    </tr>\n",
              "  </thead>\n",
              "  <tbody>\n",
              "    <tr>\n",
              "      <th>Monday</th>\n",
              "      <td>1410</td>\n",
              "      <td>88</td>\n",
              "      <td>6.24</td>\n",
              "    </tr>\n",
              "    <tr>\n",
              "      <th>Tuesday</th>\n",
              "      <td>1403</td>\n",
              "      <td>90</td>\n",
              "      <td>6.41</td>\n",
              "    </tr>\n",
              "    <tr>\n",
              "      <th>Wednesday</th>\n",
              "      <td>1368</td>\n",
              "      <td>81</td>\n",
              "      <td>5.92</td>\n",
              "    </tr>\n",
              "    <tr>\n",
              "      <th>Thursday</th>\n",
              "      <td>1449</td>\n",
              "      <td>92</td>\n",
              "      <td>6.35</td>\n",
              "    </tr>\n",
              "    <tr>\n",
              "      <th>Friday</th>\n",
              "      <td>1498</td>\n",
              "      <td>95</td>\n",
              "      <td>6.34</td>\n",
              "    </tr>\n",
              "    <tr>\n",
              "      <th>Saturday</th>\n",
              "      <td>1410</td>\n",
              "      <td>94</td>\n",
              "      <td>6.67</td>\n",
              "    </tr>\n",
              "    <tr>\n",
              "      <th>Sunday</th>\n",
              "      <td>1462</td>\n",
              "      <td>103</td>\n",
              "      <td>7.05</td>\n",
              "    </tr>\n",
              "  </tbody>\n",
              "</table>\n",
              "</div>"
            ],
            "text/plain": [
              "           count  fraud_count  fraud_rate_%\n",
              "DayName                                    \n",
              "Monday      1410           88          6.24\n",
              "Tuesday     1403           90          6.41\n",
              "Wednesday   1368           81          5.92\n",
              "Thursday    1449           92          6.35\n",
              "Friday      1498           95          6.34\n",
              "Saturday    1410           94          6.67\n",
              "Sunday      1462          103          7.05"
            ]
          },
          "metadata": {},
          "output_type": "display_data"
        },
        {
          "data": {
            "image/png": "[encoded data removed]",
            "text/plain": [
              "<Figure size 700x400 with 1 Axes>"
            ]
          },
          "metadata": {},
          "output_type": "display_data"
        }
      ],
      "source": [
        "# Time patterns based on day of week, hour of day and fraud count\n",
        "\n",
        "# dayofweek is 0=Mon ... 6=Sun in your file — map to names\n",
        "dow_map = {0:\"Monday\",1:\"Tuesday\",2:\"Wednesday\",3:\"Thursday\",4:\"Friday\",5:\"Saturday\",6:\"Sunday\"}\n",
        "df[\"DayName\"] = df[\"dayofweek\"].map(dow_map)\n",
        "\n",
        "dow = (df.groupby(\"DayName\")[\"is_fraud\"]\n",
        "         .agg(count=\"count\", fraud_count=lambda s: int(s.sum())))\n",
        "dow[\"fraud_rate_%\"] = (dow[\"fraud_count\"]/dow[\"count\"]*100).round(2)\n",
        "dow = dow.reindex([\"Monday\",\"Tuesday\",\"Wednesday\",\"Thursday\",\"Friday\",\"Saturday\",\"Sunday\"])\n",
        "display(dow)\n",
        "\n",
        "plt.figure(figsize=(7,4))\n",
        "plt.bar(dow.index, dow[\"fraud_rate_%\"].values)\n",
        "plt.title(\"Fraud Rate by Day of Week\")\n",
        "plt.ylabel(\"Fraud Rate (%)\")\n",
        "plt.xticks(rotation=20)\n",
        "plt.tight_layout()\n",
        "plt.savefig(FIGDIR/\"04_fraud_rate_by_dayofweek.png\", dpi=150)\n",
        "plt.show()\n",
        "\n",
        "\n"
      ]
    },
    {
      "cell_type": "markdown",
      "metadata": {},
      "source": [
        "From the visualisations above, we can see that the fraud rate is relatively consistent across different days of the week, with a slight increase on weekends. This insight can help in allocating resources for fraud detection more effectively during these periods espiecially on Sundays."
      ]
    },
    {
      "cell_type": "code",
      "execution_count": null,
      "metadata": {},
      "outputs": [
        {
          "name": "stdout",
          "output_type": "stream",
          "text": [
            "\n",
            "Fraud Rate by device (top 10):\n"
          ]
        },
        {
          "data": {
            "text/html": [
              "<div>\n",
              "<style scoped>\n",
              "    .dataframe tbody tr th:only-of-type {\n",
              "        vertical-align: middle;\n",
              "    }\n",
              "\n",
              "    .dataframe tbody tr th {\n",
              "        vertical-align: top;\n",
              "    }\n",
              "\n",
              "    .dataframe thead th {\n",
              "        text-align: right;\n",
              "    }\n",
              "</style>\n",
              "<table border=\"1\" class=\"dataframe\">\n",
              "  <thead>\n",
              "    <tr style=\"text-align: right;\">\n",
              "      <th></th>\n",
              "      <th>count</th>\n",
              "      <th>fraud_count</th>\n",
              "      <th>fraud_rate_%</th>\n",
              "    </tr>\n",
              "    <tr>\n",
              "      <th>device</th>\n",
              "      <th></th>\n",
              "      <th></th>\n",
              "      <th></th>\n",
              "    </tr>\n",
              "  </thead>\n",
              "  <tbody>\n",
              "    <tr>\n",
              "      <th>mobile</th>\n",
              "      <td>5961</td>\n",
              "      <td>411</td>\n",
              "      <td>6.89</td>\n",
              "    </tr>\n",
              "    <tr>\n",
              "      <th>desktop</th>\n",
              "      <td>3024</td>\n",
              "      <td>181</td>\n",
              "      <td>5.99</td>\n",
              "    </tr>\n",
              "    <tr>\n",
              "      <th>tablet</th>\n",
              "      <td>1015</td>\n",
              "      <td>51</td>\n",
              "      <td>5.02</td>\n",
              "    </tr>\n",
              "  </tbody>\n",
              "</table>\n",
              "</div>"
            ],
            "text/plain": [
              "         count  fraud_count  fraud_rate_%\n",
              "device                                   \n",
              "mobile    5961          411          6.89\n",
              "desktop   3024          181          5.99\n",
              "tablet    1015           51          5.02"
            ]
          },
          "metadata": {},
          "output_type": "display_data"
        },
        {
          "data": {
            "image/png": "[encoded data removed]",
            "text/plain": [
              "<Figure size 700x400 with 1 Axes>"
            ]
          },
          "metadata": {},
          "output_type": "display_data"
        },
        {
          "name": "stdout",
          "output_type": "stream",
          "text": [
            "\n",
            "Fraud Rate by channel (top 10):\n"
          ]
        },
        {
          "data": {
            "text/html": [
              "<div>\n",
              "<style scoped>\n",
              "    .dataframe tbody tr th:only-of-type {\n",
              "        vertical-align: middle;\n",
              "    }\n",
              "\n",
              "    .dataframe tbody tr th {\n",
              "        vertical-align: top;\n",
              "    }\n",
              "\n",
              "    .dataframe thead th {\n",
              "        text-align: right;\n",
              "    }\n",
              "</style>\n",
              "<table border=\"1\" class=\"dataframe\">\n",
              "  <thead>\n",
              "    <tr style=\"text-align: right;\">\n",
              "      <th></th>\n",
              "      <th>count</th>\n",
              "      <th>fraud_count</th>\n",
              "      <th>fraud_rate_%</th>\n",
              "    </tr>\n",
              "    <tr>\n",
              "      <th>channel</th>\n",
              "      <th></th>\n",
              "      <th></th>\n",
              "      <th></th>\n",
              "    </tr>\n",
              "  </thead>\n",
              "  <tbody>\n",
              "    <tr>\n",
              "      <th>email</th>\n",
              "      <td>520</td>\n",
              "      <td>39</td>\n",
              "      <td>7.50</td>\n",
              "    </tr>\n",
              "    <tr>\n",
              "      <th>ads</th>\n",
              "      <td>1007</td>\n",
              "      <td>75</td>\n",
              "      <td>7.45</td>\n",
              "    </tr>\n",
              "    <tr>\n",
              "      <th>social</th>\n",
              "      <td>506</td>\n",
              "      <td>32</td>\n",
              "      <td>6.32</td>\n",
              "    </tr>\n",
              "    <tr>\n",
              "      <th>web</th>\n",
              "      <td>4519</td>\n",
              "      <td>285</td>\n",
              "      <td>6.31</td>\n",
              "    </tr>\n",
              "    <tr>\n",
              "      <th>app</th>\n",
              "      <td>3448</td>\n",
              "      <td>212</td>\n",
              "      <td>6.15</td>\n",
              "    </tr>\n",
              "  </tbody>\n",
              "</table>\n",
              "</div>"
            ],
            "text/plain": [
              "         count  fraud_count  fraud_rate_%\n",
              "channel                                  \n",
              "email      520           39          7.50\n",
              "ads       1007           75          7.45\n",
              "social     506           32          6.32\n",
              "web       4519          285          6.31\n",
              "app       3448          212          6.15"
            ]
          },
          "metadata": {},
          "output_type": "display_data"
        },
        {
          "data": {
            "image/png": "[encoded data removed]",
            "text/plain": [
              "<Figure size 700x400 with 1 Axes>"
            ]
          },
          "metadata": {},
          "output_type": "display_data"
        },
        {
          "name": "stdout",
          "output_type": "stream",
          "text": [
            "\n",
            "Fraud Rate by country (top 10):\n"
          ]
        },
        {
          "data": {
            "text/html": [
              "<div>\n",
              "<style scoped>\n",
              "    .dataframe tbody tr th:only-of-type {\n",
              "        vertical-align: middle;\n",
              "    }\n",
              "\n",
              "    .dataframe tbody tr th {\n",
              "        vertical-align: top;\n",
              "    }\n",
              "\n",
              "    .dataframe thead th {\n",
              "        text-align: right;\n",
              "    }\n",
              "</style>\n",
              "<table border=\"1\" class=\"dataframe\">\n",
              "  <thead>\n",
              "    <tr style=\"text-align: right;\">\n",
              "      <th></th>\n",
              "      <th>count</th>\n",
              "      <th>fraud_count</th>\n",
              "      <th>fraud_rate_%</th>\n",
              "    </tr>\n",
              "    <tr>\n",
              "      <th>country</th>\n",
              "      <th></th>\n",
              "      <th></th>\n",
              "      <th></th>\n",
              "    </tr>\n",
              "  </thead>\n",
              "  <tbody>\n",
              "    <tr>\n",
              "      <th>in</th>\n",
              "      <td>1501</td>\n",
              "      <td>139</td>\n",
              "      <td>9.26</td>\n",
              "    </tr>\n",
              "    <tr>\n",
              "      <th>br</th>\n",
              "      <td>644</td>\n",
              "      <td>48</td>\n",
              "      <td>7.45</td>\n",
              "    </tr>\n",
              "    <tr>\n",
              "      <th>jp</th>\n",
              "      <td>715</td>\n",
              "      <td>49</td>\n",
              "      <td>6.85</td>\n",
              "    </tr>\n",
              "    <tr>\n",
              "      <th>de</th>\n",
              "      <td>840</td>\n",
              "      <td>57</td>\n",
              "      <td>6.79</td>\n",
              "    </tr>\n",
              "    <tr>\n",
              "      <th>au</th>\n",
              "      <td>738</td>\n",
              "      <td>47</td>\n",
              "      <td>6.37</td>\n",
              "    </tr>\n",
              "    <tr>\n",
              "      <th>uk</th>\n",
              "      <td>976</td>\n",
              "      <td>62</td>\n",
              "      <td>6.35</td>\n",
              "    </tr>\n",
              "    <tr>\n",
              "      <th>us</th>\n",
              "      <td>1951</td>\n",
              "      <td>110</td>\n",
              "      <td>5.64</td>\n",
              "    </tr>\n",
              "    <tr>\n",
              "      <th>es</th>\n",
              "      <td>798</td>\n",
              "      <td>43</td>\n",
              "      <td>5.39</td>\n",
              "    </tr>\n",
              "    <tr>\n",
              "      <th>fr</th>\n",
              "      <td>983</td>\n",
              "      <td>51</td>\n",
              "      <td>5.19</td>\n",
              "    </tr>\n",
              "    <tr>\n",
              "      <th>ca</th>\n",
              "      <td>854</td>\n",
              "      <td>37</td>\n",
              "      <td>4.33</td>\n",
              "    </tr>\n",
              "  </tbody>\n",
              "</table>\n",
              "</div>"
            ],
            "text/plain": [
              "         count  fraud_count  fraud_rate_%\n",
              "country                                  \n",
              "in        1501          139          9.26\n",
              "br         644           48          7.45\n",
              "jp         715           49          6.85\n",
              "de         840           57          6.79\n",
              "au         738           47          6.37\n",
              "uk         976           62          6.35\n",
              "us        1951          110          5.64\n",
              "es         798           43          5.39\n",
              "fr         983           51          5.19\n",
              "ca         854           37          4.33"
            ]
          },
          "metadata": {},
          "output_type": "display_data"
        },
        {
          "data": {
            "image/png": "[encoded data removed]",
            "text/plain": [
              "<Figure size 700x400 with 1 Axes>"
            ]
          },
          "metadata": {},
          "output_type": "display_data"
        }
      ],
      "source": [
        "# Segments: device, channel, country (top 10 by fraud rate)\n",
        "\n",
        "\n",
        "def fraud_rate_table(col):\n",
        "    t = (df.groupby(col)[\"is_fraud\"]\n",
        "           .agg(count=\"count\", fraud_count=lambda s: int(s.sum())))\n",
        "    t[\"fraud_rate_%\"] = (t[\"fraud_count\"]/t[\"count\"]*100).round(2)\n",
        "    return t.sort_values(\"fraud_rate_%\", ascending=False)\n",
        "\n",
        "for col, slug in [(\"device\",\"device\"), (\"channel\",\"channel\"), (\"country\",\"country\")]:\n",
        "    if col in df.columns:\n",
        "        print(f\"\\nFraud Rate by {slug} (top 10):\")\n",
        "        tbl = fraud_rate_table(col)\n",
        "        display(tbl.head(10))\n",
        "\n",
        "        top10 = tbl.head(10)\n",
        "        plt.figure(figsize=(7,4))\n",
        "        plt.bar(top10.index.astype(str), top10[\"fraud_rate_%\"].values)\n",
        "        plt.title(f\"Fraud Rate by {slug} (Top 10)\")\n",
        "        plt.ylabel(\"Fraud Rate (%)\")\n",
        "        plt.xticks(rotation=30, ha=\"right\")\n",
        "        plt.tight_layout()\n",
        "        plt.savefig(FIGDIR/f\"06_fraud_rate_by_{slug}_top10.png\", dpi=150)\n",
        "        plt.show()\n",
        "    else:\n",
        "        print(f\"{col} not found — skipping.\")\n"
      ]
    },
    {
      "cell_type": "code",
      "execution_count": null,
      "metadata": {},
      "outputs": [
        {
          "name": "stderr",
          "output_type": "stream",
          "text": [
            "C:\\Users\\Nine\\AppData\\Local\\Temp\\ipykernel_33588\\4037309656.py:7: FutureWarning: The default of observed=False is deprecated and will be changed to True in a future version of pandas. Pass observed=False to retain current behavior or observed=True to adopt the future default and silence this warning.\n",
            "  dec = (d2.groupby(\"amount_decile\")[\"is_fraud\"]\n"
          ]
        },
        {
          "data": {
            "text/html": [
              "<div>\n",
              "<style scoped>\n",
              "    .dataframe tbody tr th:only-of-type {\n",
              "        vertical-align: middle;\n",
              "    }\n",
              "\n",
              "    .dataframe tbody tr th {\n",
              "        vertical-align: top;\n",
              "    }\n",
              "\n",
              "    .dataframe thead th {\n",
              "        text-align: right;\n",
              "    }\n",
              "</style>\n",
              "<table border=\"1\" class=\"dataframe\">\n",
              "  <thead>\n",
              "    <tr style=\"text-align: right;\">\n",
              "      <th></th>\n",
              "      <th>count</th>\n",
              "      <th>fraud_count</th>\n",
              "      <th>fraud_rate_%</th>\n",
              "    </tr>\n",
              "    <tr>\n",
              "      <th>amount_decile</th>\n",
              "      <th></th>\n",
              "      <th></th>\n",
              "      <th></th>\n",
              "    </tr>\n",
              "  </thead>\n",
              "  <tbody>\n",
              "    <tr>\n",
              "      <th>D1</th>\n",
              "      <td>1000</td>\n",
              "      <td>11</td>\n",
              "      <td>1.1</td>\n",
              "    </tr>\n",
              "    <tr>\n",
              "      <th>D2</th>\n",
              "      <td>1000</td>\n",
              "      <td>26</td>\n",
              "      <td>2.6</td>\n",
              "    </tr>\n",
              "    <tr>\n",
              "      <th>D3</th>\n",
              "      <td>1000</td>\n",
              "      <td>24</td>\n",
              "      <td>2.4</td>\n",
              "    </tr>\n",
              "    <tr>\n",
              "      <th>D4</th>\n",
              "      <td>1000</td>\n",
              "      <td>26</td>\n",
              "      <td>2.6</td>\n",
              "    </tr>\n",
              "    <tr>\n",
              "      <th>D5</th>\n",
              "      <td>1000</td>\n",
              "      <td>25</td>\n",
              "      <td>2.5</td>\n",
              "    </tr>\n",
              "    <tr>\n",
              "      <th>D6</th>\n",
              "      <td>1000</td>\n",
              "      <td>37</td>\n",
              "      <td>3.7</td>\n",
              "    </tr>\n",
              "    <tr>\n",
              "      <th>D7</th>\n",
              "      <td>1000</td>\n",
              "      <td>44</td>\n",
              "      <td>4.4</td>\n",
              "    </tr>\n",
              "    <tr>\n",
              "      <th>D8</th>\n",
              "      <td>1000</td>\n",
              "      <td>52</td>\n",
              "      <td>5.2</td>\n",
              "    </tr>\n",
              "    <tr>\n",
              "      <th>D9</th>\n",
              "      <td>1000</td>\n",
              "      <td>117</td>\n",
              "      <td>11.7</td>\n",
              "    </tr>\n",
              "    <tr>\n",
              "      <th>D10</th>\n",
              "      <td>1000</td>\n",
              "      <td>281</td>\n",
              "      <td>28.1</td>\n",
              "    </tr>\n",
              "  </tbody>\n",
              "</table>\n",
              "</div>"
            ],
            "text/plain": [
              "               count  fraud_count  fraud_rate_%\n",
              "amount_decile                                  \n",
              "D1              1000           11           1.1\n",
              "D2              1000           26           2.6\n",
              "D3              1000           24           2.4\n",
              "D4              1000           26           2.6\n",
              "D5              1000           25           2.5\n",
              "D6              1000           37           3.7\n",
              "D7              1000           44           4.4\n",
              "D8              1000           52           5.2\n",
              "D9              1000          117          11.7\n",
              "D10             1000          281          28.1"
            ]
          },
          "metadata": {},
          "output_type": "display_data"
        },
        {
          "data": {
            "image/png": "[encoded data removed]",
            "text/plain": [
              "<Figure size 700x400 with 1 Axes>"
            ]
          },
          "metadata": {},
          "output_type": "display_data"
        }
      ],
      "source": [
        "# Amount deciles vs fraud rate, which shows if higher amounts are more likely to be fraudulent\n",
        "\n",
        "\n",
        "d2 = df.loc[df[\"amount\"].notna(), [\"amount\",\"is_fraud\"]].copy()\n",
        "d2[\"amount_decile\"] = pd.qcut(d2[\"amount\"], 10, labels=[f\"D{i}\" for i in range(1,11)])\n",
        "\n",
        "dec = (d2.groupby(\"amount_decile\")[\"is_fraud\"]\n",
        "         .agg(count=\"count\", fraud_count=lambda s: int(s.sum())))\n",
        "dec[\"fraud_rate_%\"] = (dec[\"fraud_count\"]/dec[\"count\"]*100).round(2)\n",
        "dec = dec.sort_index()\n",
        "display(dec)\n",
        "\n",
        "plt.figure(figsize=(7,4))\n",
        "plt.bar(dec.index.astype(str), dec[\"fraud_rate_%\"].values)\n",
        "plt.title(\"Fraud Rate by Amount Decile (D1=lowest, D10=highest)\")\n",
        "plt.ylabel(\"Fraud Rate (%)\")\n",
        "plt.tight_layout()\n",
        "plt.savefig(FIGDIR/\"07_fraud_rate_by_amount_decile.png\", dpi=150)\n",
        "plt.show()\n"
      ]
    },
    {
      "cell_type": "code",
      "execution_count": null,
      "metadata": {},
      "outputs": [
        {
          "data": {
            "text/html": [
              "<div>\n",
              "<style scoped>\n",
              "    .dataframe tbody tr th:only-of-type {\n",
              "        vertical-align: middle;\n",
              "    }\n",
              "\n",
              "    .dataframe tbody tr th {\n",
              "        vertical-align: top;\n",
              "    }\n",
              "\n",
              "    .dataframe thead th {\n",
              "        text-align: right;\n",
              "    }\n",
              "</style>\n",
              "<table border=\"1\" class=\"dataframe\">\n",
              "  <thead>\n",
              "    <tr style=\"text-align: right;\">\n",
              "      <th>channel</th>\n",
              "      <th>ads</th>\n",
              "      <th>app</th>\n",
              "      <th>email</th>\n",
              "      <th>social</th>\n",
              "      <th>web</th>\n",
              "    </tr>\n",
              "    <tr>\n",
              "      <th>device</th>\n",
              "      <th></th>\n",
              "      <th></th>\n",
              "      <th></th>\n",
              "      <th></th>\n",
              "      <th></th>\n",
              "    </tr>\n",
              "  </thead>\n",
              "  <tbody>\n",
              "    <tr>\n",
              "      <th>desktop</th>\n",
              "      <td>5.48</td>\n",
              "      <td>5.54</td>\n",
              "      <td>7.09</td>\n",
              "      <td>6.71</td>\n",
              "      <td>6.24</td>\n",
              "    </tr>\n",
              "    <tr>\n",
              "      <th>mobile</th>\n",
              "      <td>7.83</td>\n",
              "      <td>6.92</td>\n",
              "      <td>6.69</td>\n",
              "      <td>6.38</td>\n",
              "      <td>6.74</td>\n",
              "    </tr>\n",
              "    <tr>\n",
              "      <th>tablet</th>\n",
              "      <td>10.78</td>\n",
              "      <td>3.27</td>\n",
              "      <td>14.00</td>\n",
              "      <td>5.08</td>\n",
              "      <td>4.06</td>\n",
              "    </tr>\n",
              "  </tbody>\n",
              "</table>\n",
              "</div>"
            ],
            "text/plain": [
              "channel    ads   app  email  social   web\n",
              "device                                   \n",
              "desktop   5.48  5.54   7.09    6.71  6.24\n",
              "mobile    7.83  6.92   6.69    6.38  6.74\n",
              "tablet   10.78  3.27  14.00    5.08  4.06"
            ]
          },
          "metadata": {},
          "output_type": "display_data"
        },
        {
          "data": {
            "image/png": "[encoded data removed]",
            "text/plain": [
              "<Figure size 700x500 with 2 Axes>"
            ]
          },
          "metadata": {},
          "output_type": "display_data"
        }
      ],
      "source": [
        "# device and channel combination matrix (top 10 by fraud rate)\n",
        "\n",
        "if \"device\" in df.columns and \"channel\" in df.columns:\n",
        "    t = (df.groupby([\"device\",\"channel\"])[\"is_fraud\"]\n",
        "           .agg(count=\"count\", fraud_count=lambda s: int(s.sum())))\n",
        "    t[\"fraud_rate_%\"] = (t[\"fraud_count\"]/t[\"count\"]*100).round(2)\n",
        "\n",
        "    pivot = t[\"fraud_rate_%\"].unstack(\"channel\").fillna(0).round(2)\n",
        "    display(pivot)  # nice table for README\n",
        "\n",
        "    plt.figure(figsize=(7,5))\n",
        "    plt.imshow(pivot.values, aspect=\"auto\", interpolation=\"nearest\")\n",
        "    plt.title(\"Fraud Rate % — Device × Channel\")\n",
        "    plt.colorbar(label=\"%\")\n",
        "    plt.xticks(range(pivot.shape[1]), pivot.columns, rotation=45, ha=\"right\")\n",
        "    plt.yticks(range(pivot.shape[0]), pivot.index)\n",
        "    plt.tight_layout()\n",
        "    plt.savefig(FIGDIR/\"08_heatmap_device_by_channel.png\", dpi=150)\n",
        "    plt.show()\n",
        "else:\n",
        "    print(\"Need both 'device' and 'channel' columns for the matrix.\")\n"
      ]
    },
    {
      "cell_type": "markdown",
      "metadata": {},
      "source": [
        "---"
      ]
    },
    {
      "cell_type": "markdown",
      "metadata": {},
      "source": [
        "NOTE"
      ]
    },
    {
      "cell_type": "markdown",
      "metadata": {},
      "source": [
        "* You may add as many sections as you want, as long as it supports your project workflow.\n",
        "* All notebook's cells should be run top-down (you can't create a dynamic wherein a given point you need to go back to a previous cell to execute some task, like go back to a previous cell and refresh a variable content)"
      ]
    },
    {
      "cell_type": "markdown",
      "metadata": {},
      "source": [
        "---"
      ]
    }
  ],
  "metadata": {
    "accelerator": "GPU",
    "colab": {
      "name": "Data Practitioner Jupyter Notebook.ipynb",
      "provenance": [],
      "toc_visible": true
    },
    "kernelspec": {
      "display_name": "Python 3",
      "language": "python",
      "name": "python3"
    },
    "language_info": {
      "codemirror_mode": {
        "name": "ipython",
        "version": 3
      },
      "file_extension": ".py",
      "mimetype": "text/x-python",
      "name": "python",
      "nbconvert_exporter": "python",
      "pygments_lexer": "ipython3",
      "version": "3.12.8"
    },
    "orig_nbformat": 2
  },
  "nbformat": 4,
  "nbformat_minor": 2
}
