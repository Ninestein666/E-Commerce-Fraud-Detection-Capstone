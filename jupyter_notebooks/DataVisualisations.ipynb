{
  "cells": [
    {
      "cell_type": "markdown",
      "metadata": {
        "id": "0aStgWSO0E0E"
      },
      "source": [
        "## E-Commerce Fraud Detection Data Visualisation"
      ]
    },
    {
      "cell_type": "markdown",
      "metadata": {
        "id": "1eLEkw5O0ECa"
      },
      "source": [
        "## Objectives\n",
        "\n",
        "* Create clear, exam-friendly visualisations that answer the business questions (fraud rate, when/where fraud occurs, by how much, and risk).\n",
        "\n",
        "* Save PNGs/CSVs to reports/figures/ and reports/tables/ for README (and later Power BI).\n",
        "* Keep captions/notes short & plain-English\n",
        "\n",
        "## Inputs\n",
        "\n",
        "* data/processed/cleaned_transactions.csv\n",
        "\n",
        "## Outputs\n",
        "\n",
        "* Figures in reports/figures/…\n",
        "* Summary tables in reports/tables/…\n",
        "\n",
        "\n",
        "\n"
      ]
    },
    {
      "cell_type": "markdown",
      "metadata": {
        "id": "9uWZXH9LwoQg"
      },
      "source": [
        "---"
      ]
    },
    {
      "cell_type": "markdown",
      "metadata": {
        "id": "cqP-UeN-z3i2"
      },
      "source": [
        "# Change working directory"
      ]
    },
    {
      "cell_type": "markdown",
      "metadata": {},
      "source": [
        "* We are assuming you will store the notebooks in a subfolder, therefore when running the notebook in the editor, you will need to change the working directory"
      ]
    },
    {
      "cell_type": "markdown",
      "metadata": {
        "id": "aOGIGS-uz3i2"
      },
      "source": [
        "We need to change the working directory from its current folder to its parent folder\n",
        "* We access the current directory with os.getcwd()"
      ]
    },
    {
      "cell_type": "code",
      "execution_count": 24,
      "metadata": {
        "id": "wZfF_j-Bz3i4",
        "outputId": "66943449-1436-4c3d-85c7-b85f9f78349b"
      },
      "outputs": [
        {
          "data": {
            "text/plain": [
              "'c:\\\\Users\\\\Nine\\\\OneDrive\\\\Documents\\\\VS Code Projects\\\\E-Commerce-Fraud-Detection-Capstone\\\\E-Commerce-Fraud-Detection-Capstone\\\\jupyter_notebooks'"
            ]
          },
          "execution_count": 24,
          "metadata": {},
          "output_type": "execute_result"
        }
      ],
      "source": [
        "import os\n",
        "current_dir = os.getcwd()\n",
        "current_dir"
      ]
    },
    {
      "cell_type": "markdown",
      "metadata": {
        "id": "9MWW8E7lz3i7"
      },
      "source": [
        "We want to make the parent of the current directory the new current directory\n",
        "* os.path.dirname() gets the parent directory\n",
        "* os.chir() defines the new current directory"
      ]
    },
    {
      "cell_type": "code",
      "execution_count": 25,
      "metadata": {
        "id": "TwHsQRWjz3i9",
        "outputId": "86849db3-cd2f-4cc5-ebb8-2d0caafa1a2c"
      },
      "outputs": [
        {
          "name": "stdout",
          "output_type": "stream",
          "text": [
            "You set a new current directory\n"
          ]
        }
      ],
      "source": [
        "os.chdir(os.path.dirname(current_dir))\n",
        "print(\"You set a new current directory\")"
      ]
    },
    {
      "cell_type": "markdown",
      "metadata": {
        "id": "M_xPk_Ijz3i-"
      },
      "source": [
        "Confirm the new current directory"
      ]
    },
    {
      "cell_type": "code",
      "execution_count": 26,
      "metadata": {
        "id": "vz3S-_kjz3jA",
        "outputId": "00b79ae4-75d0-4a96-d193-ac9ef9847ea2"
      },
      "outputs": [
        {
          "data": {
            "text/plain": [
              "'c:\\\\Users\\\\Nine\\\\OneDrive\\\\Documents\\\\VS Code Projects\\\\E-Commerce-Fraud-Detection-Capstone\\\\E-Commerce-Fraud-Detection-Capstone'"
            ]
          },
          "execution_count": 26,
          "metadata": {},
          "output_type": "execute_result"
        }
      ],
      "source": [
        "current_dir = os.getcwd()\n",
        "current_dir"
      ]
    },
    {
      "cell_type": "markdown",
      "metadata": {
        "id": "-mavJ8DibrcQ"
      },
      "source": [
        "# Section 1"
      ]
    },
    {
      "cell_type": "markdown",
      "metadata": {},
      "source": [
        "Set up and load libraries along with dataset."
      ]
    },
    {
      "cell_type": "code",
      "execution_count": 27,
      "metadata": {},
      "outputs": [],
      "source": [
        "# importing libraries\n",
        "\n",
        "import pandas as pd\n",
        "import numpy as np\n",
        "import matplotlib.pyplot as plt\n",
        "import seaborn as sns\n",
        "import plotly.express as px\n",
        "from pathlib import Path"
      ]
    },
    {
      "cell_type": "code",
      "execution_count": 28,
      "metadata": {},
      "outputs": [
        {
          "name": "stdout",
          "output_type": "stream",
          "text": [
            "📂 Loading data from: DataSet\\Cleaned\\cleaned_transactions.csv\n",
            "✅ Data loaded successfully!\n",
            "📊 Dataset Info:\n",
            "   Shape: 10,000 rows × 12 columns\n",
            "   Memory usage: 2.7 MB\n",
            "\n",
            "📋 Column Names:\n",
            "    1. transaction_id (int64)\n",
            "    2. user_id (int64)\n",
            "    3. timestamp (object)\n",
            "    4. amount (float64)\n",
            "    5. country (object)\n",
            "    6. device (object)\n",
            "    7. channel (object)\n",
            "    8. hour (int64)\n",
            "    9. dayofweek (int64)\n",
            "   10. coupon_applied (bool)\n",
            "   11. num_items (int64)\n",
            "   12. is_fraud (bool)\n",
            "\n",
            "📈 First 5 rows:\n"
          ]
        },
        {
          "data": {
            "text/html": [
              "<div>\n",
              "<style scoped>\n",
              "    .dataframe tbody tr th:only-of-type {\n",
              "        vertical-align: middle;\n",
              "    }\n",
              "\n",
              "    .dataframe tbody tr th {\n",
              "        vertical-align: top;\n",
              "    }\n",
              "\n",
              "    .dataframe thead th {\n",
              "        text-align: right;\n",
              "    }\n",
              "</style>\n",
              "<table border=\"1\" class=\"dataframe\">\n",
              "  <thead>\n",
              "    <tr style=\"text-align: right;\">\n",
              "      <th></th>\n",
              "      <th>transaction_id</th>\n",
              "      <th>user_id</th>\n",
              "      <th>timestamp</th>\n",
              "      <th>amount</th>\n",
              "      <th>country</th>\n",
              "      <th>device</th>\n",
              "      <th>channel</th>\n",
              "      <th>hour</th>\n",
              "      <th>dayofweek</th>\n",
              "      <th>coupon_applied</th>\n",
              "      <th>num_items</th>\n",
              "      <th>is_fraud</th>\n",
              "    </tr>\n",
              "  </thead>\n",
              "  <tbody>\n",
              "    <tr>\n",
              "      <th>0</th>\n",
              "      <td>6253</td>\n",
              "      <td>3594</td>\n",
              "      <td>2023-01-28 06:04:00+00:00</td>\n",
              "      <td>125.79</td>\n",
              "      <td>us</td>\n",
              "      <td>mobile</td>\n",
              "      <td>ads</td>\n",
              "      <td>6</td>\n",
              "      <td>5</td>\n",
              "      <td>False</td>\n",
              "      <td>5</td>\n",
              "      <td>False</td>\n",
              "    </tr>\n",
              "    <tr>\n",
              "      <th>1</th>\n",
              "      <td>4685</td>\n",
              "      <td>2502</td>\n",
              "      <td>2023-04-27 21:32:00+00:00</td>\n",
              "      <td>153.40</td>\n",
              "      <td>de</td>\n",
              "      <td>mobile</td>\n",
              "      <td>web</td>\n",
              "      <td>21</td>\n",
              "      <td>3</td>\n",
              "      <td>False</td>\n",
              "      <td>3</td>\n",
              "      <td>False</td>\n",
              "    </tr>\n",
              "    <tr>\n",
              "      <th>2</th>\n",
              "      <td>1732</td>\n",
              "      <td>2287</td>\n",
              "      <td>2023-08-19 19:03:00+00:00</td>\n",
              "      <td>7.64</td>\n",
              "      <td>in</td>\n",
              "      <td>tablet</td>\n",
              "      <td>app</td>\n",
              "      <td>19</td>\n",
              "      <td>5</td>\n",
              "      <td>False</td>\n",
              "      <td>3</td>\n",
              "      <td>False</td>\n",
              "    </tr>\n",
              "    <tr>\n",
              "      <th>3</th>\n",
              "      <td>4743</td>\n",
              "      <td>3043</td>\n",
              "      <td>2023-03-14 04:56:00+00:00</td>\n",
              "      <td>36.36</td>\n",
              "      <td>us</td>\n",
              "      <td>mobile</td>\n",
              "      <td>web</td>\n",
              "      <td>4</td>\n",
              "      <td>1</td>\n",
              "      <td>True</td>\n",
              "      <td>2</td>\n",
              "      <td>False</td>\n",
              "    </tr>\n",
              "    <tr>\n",
              "      <th>4</th>\n",
              "      <td>4522</td>\n",
              "      <td>4629</td>\n",
              "      <td>2023-09-24 21:33:00+00:00</td>\n",
              "      <td>55.17</td>\n",
              "      <td>es</td>\n",
              "      <td>mobile</td>\n",
              "      <td>app</td>\n",
              "      <td>21</td>\n",
              "      <td>6</td>\n",
              "      <td>False</td>\n",
              "      <td>1</td>\n",
              "      <td>False</td>\n",
              "    </tr>\n",
              "  </tbody>\n",
              "</table>\n",
              "</div>"
            ],
            "text/plain": [
              "   transaction_id  user_id                  timestamp  amount country  device  \\\n",
              "0            6253     3594  2023-01-28 06:04:00+00:00  125.79      us  mobile   \n",
              "1            4685     2502  2023-04-27 21:32:00+00:00  153.40      de  mobile   \n",
              "2            1732     2287  2023-08-19 19:03:00+00:00    7.64      in  tablet   \n",
              "3            4743     3043  2023-03-14 04:56:00+00:00   36.36      us  mobile   \n",
              "4            4522     4629  2023-09-24 21:33:00+00:00   55.17      es  mobile   \n",
              "\n",
              "  channel  hour  dayofweek  coupon_applied  num_items  is_fraud  \n",
              "0     ads     6          5           False          5     False  \n",
              "1     web    21          3           False          3     False  \n",
              "2     app    19          5           False          3     False  \n",
              "3     web     4          1            True          2     False  \n",
              "4     app    21          6           False          1     False  "
            ]
          },
          "metadata": {},
          "output_type": "display_data"
        },
        {
          "name": "stdout",
          "output_type": "stream",
          "text": [
            "\n",
            "📊 Basic Statistics:\n",
            "   Fraud Distribution:\n",
            "     Legitimate: 9,357 (93.6%)\n",
            "     Fraudulent: 643 (6.4%)\n",
            "\n",
            "✅ Dataset ready for visualizations!\n"
          ]
        }
      ],
      "source": [
        "# Loading the cleaned transactions dataset\n",
        "\n",
        "csv_path = Path(\"DataSet/Cleaned/cleaned_transactions.csv\")\n",
        "\n",
        "# Check if file exists\n",
        "if not csv_path.exists():\n",
        "    print(f\"❌ File not found: {csv_path.resolve()}\")\n",
        "    print(\"Available files in DataSet/Cleaned/:\")\n",
        "    cleaned_dir = Path(\"DataSet/Cleaned\")\n",
        "    if cleaned_dir.exists():\n",
        "        for file in cleaned_dir.glob(\"*.csv\"):\n",
        "            print(f\"  - {file.name}\")\n",
        "    else:\n",
        "        print(\"  Directory doesn't exist\")\n",
        "else:\n",
        "    # Load the data\n",
        "    print(f\"📂 Loading data from: {csv_path}\")\n",
        "    df = pd.read_csv(csv_path, low_memory=False)\n",
        "    \n",
        "    print(f\"✅ Data loaded successfully!\")\n",
        "    print(f\"📊 Dataset Info:\")\n",
        "    print(f\"   Shape: {df.shape[0]:,} rows × {df.shape[1]} columns\")\n",
        "    print(f\"   Memory usage: {df.memory_usage(deep=True).sum() / 1024**2:.1f} MB\")\n",
        "    \n",
        "    print(f\"\\n📋 Column Names:\")\n",
        "    for i, col in enumerate(df.columns, 1):\n",
        "        print(f\"   {i:2d}. {col} ({df[col].dtype})\")\n",
        "    \n",
        "    print(f\"\\n📈 First 5 rows:\")\n",
        "    display(df.head())\n",
        "    \n",
        "    print(f\"\\n📊 Basic Statistics:\")\n",
        "    if 'is_fraud' in df.columns:\n",
        "        fraud_counts = df['is_fraud'].value_counts()\n",
        "        total = len(df)\n",
        "        print(f\"   Fraud Distribution:\")\n",
        "        for value, count in fraud_counts.items():\n",
        "            label = \"Fraudulent\" if value else \"Legitimate\"\n",
        "            pct = (count / total) * 100\n",
        "            print(f\"     {label}: {count:,} ({pct:.1f}%)\")\n",
        "    \n",
        "    print(f\"\\n✅ Dataset ready for visualizations!\")"
      ]
    },
    {
      "cell_type": "code",
      "execution_count": 32,
      "metadata": {},
      "outputs": [],
      "source": [
        "# Adding the folder to where images will be saved\n",
        "\n",
        "FIGDIR = Path(\"reports/figures\"); FIGDIR.mkdir(parents=True, exist_ok=True)"
      ]
    },
    {
      "cell_type": "markdown",
      "metadata": {
        "id": "ZY3l0-AxO93d"
      },
      "source": [
        "---"
      ]
    },
    {
      "cell_type": "markdown",
      "metadata": {
        "id": "uFQo3ycuO-v6"
      },
      "source": [
        "# Section 2"
      ]
    },
    {
      "cell_type": "markdown",
      "metadata": {},
      "source": [
        "Section 2 will show our visualisations representing key metrics and also complying with the capstone project objective."
      ]
    },
    {
      "cell_type": "code",
      "execution_count": 39,
      "metadata": {},
      "outputs": [
        {
          "data": {
            "text/html": [
              "<div>\n",
              "<style scoped>\n",
              "    .dataframe tbody tr th:only-of-type {\n",
              "        vertical-align: middle;\n",
              "    }\n",
              "\n",
              "    .dataframe tbody tr th {\n",
              "        vertical-align: top;\n",
              "    }\n",
              "\n",
              "    .dataframe thead th {\n",
              "        text-align: right;\n",
              "    }\n",
              "</style>\n",
              "<table border=\"1\" class=\"dataframe\">\n",
              "  <thead>\n",
              "    <tr style=\"text-align: right;\">\n",
              "      <th></th>\n",
              "      <th>metric</th>\n",
              "      <th>value</th>\n",
              "    </tr>\n",
              "  </thead>\n",
              "  <tbody>\n",
              "    <tr>\n",
              "      <th>0</th>\n",
              "      <td>Total Transactions</td>\n",
              "      <td>10000.00</td>\n",
              "    </tr>\n",
              "    <tr>\n",
              "      <th>1</th>\n",
              "      <td>Fraud Count</td>\n",
              "      <td>643.00</td>\n",
              "    </tr>\n",
              "    <tr>\n",
              "      <th>2</th>\n",
              "      <td>Fraud Rate (%)</td>\n",
              "      <td>6.43</td>\n",
              "    </tr>\n",
              "    <tr>\n",
              "      <th>3</th>\n",
              "      <td>Total Amount</td>\n",
              "      <td>797973.54</td>\n",
              "    </tr>\n",
              "  </tbody>\n",
              "</table>\n",
              "</div>"
            ],
            "text/plain": [
              "               metric      value\n",
              "0  Total Transactions   10000.00\n",
              "1         Fraud Count     643.00\n",
              "2      Fraud Rate (%)       6.43\n",
              "3        Total Amount  797973.54"
            ]
          },
          "metadata": {},
          "output_type": "display_data"
        },
        {
          "data": {
            "image/png": "[encoded data removed]",
            "text/plain": [
              "<Figure size 500x400 with 1 Axes>"
            ]
          },
          "metadata": {},
          "output_type": "display_data"
        }
      ],
      "source": [
        "# Here we will create some key performance indicators (KPIs) and Class Balance Bar\n",
        "\n",
        "total_tx   = len(df)\n",
        "fraud_tx   = int(df[\"is_fraud\"].sum())          \n",
        "fraud_rate = round(fraud_tx / total_tx * 100, 2)\n",
        "total_amt  = round(df[\"amount\"].sum(), 2)\n",
        "\n",
        "kpi = pd.DataFrame({\n",
        "    \"metric\": [\"Total Transactions\",\"Fraud Count\",\"Fraud Rate (%)\",\"Total Amount\"],\n",
        "    \"value\":  [total_tx, fraud_tx, fraud_rate, total_amt]\n",
        "})\n",
        "display(kpi)\n",
        "\n",
        "# class balance bar\n",
        "counts = df[\"is_fraud\"].value_counts()\n",
        "labels = [\"Non-fraud\",\"Fraud\"]\n",
        "plt.figure(figsize=(5,4))\n",
        "plt.bar(labels, [counts.get(False,0), counts.get(True,0)])\n",
        "plt.title(\"Class Balance\")\n",
        "plt.ylabel(\"Count\")\n",
        "plt.tight_layout()\n",
        "plt.savefig(FIGDIR/\"01_class_balance.png\", dpi=150)\n",
        "plt.show()\n"
      ]
    },
    {
      "cell_type": "markdown",
      "metadata": {},
      "source": [
        "---"
      ]
    },
    {
      "cell_type": "markdown",
      "metadata": {},
      "source": [
        "NOTE"
      ]
    },
    {
      "cell_type": "markdown",
      "metadata": {},
      "source": [
        "* You may add as many sections as you want, as long as it supports your project workflow.\n",
        "* All notebook's cells should be run top-down (you can't create a dynamic wherein a given point you need to go back to a previous cell to execute some task, like go back to a previous cell and refresh a variable content)"
      ]
    },
    {
      "cell_type": "markdown",
      "metadata": {},
      "source": [
        "---"
      ]
    }
  ],
  "metadata": {
    "accelerator": "GPU",
    "colab": {
      "name": "Data Practitioner Jupyter Notebook.ipynb",
      "provenance": [],
      "toc_visible": true
    },
    "kernelspec": {
      "display_name": "Python 3",
      "language": "python",
      "name": "python3"
    },
    "language_info": {
      "codemirror_mode": {
        "name": "ipython",
        "version": 3
      },
      "file_extension": ".py",
      "mimetype": "text/x-python",
      "name": "python",
      "nbconvert_exporter": "python",
      "pygments_lexer": "ipython3",
      "version": "3.12.8"
    },
    "orig_nbformat": 2
  },
  "nbformat": 4,
  "nbformat_minor": 2
}
